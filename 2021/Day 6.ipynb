{
 "cells": [
  {
   "cell_type": "markdown",
   "metadata": {},
   "source": [
    "# Part one"
   ]
  },
  {
   "cell_type": "code",
   "execution_count": 16,
   "metadata": {},
   "outputs": [],
   "source": [
    "import numpy as np\n",
    "from numba import jit, njit"
   ]
  },
  {
   "cell_type": "code",
   "execution_count": 19,
   "metadata": {},
   "outputs": [],
   "source": [
    "f = open('Day6input.txt', 'r')\n",
    "data = f.read()\n",
    "data = data.split(',')\n",
    "data = np.array([int(i) for i in data])"
   ]
  },
  {
   "cell_type": "code",
   "execution_count": 44,
   "metadata": {},
   "outputs": [],
   "source": [
    "#@njit\n",
    "def looping(data):\n",
    "    for i in range(1, 80):\n",
    "        data = data - 1\n",
    "        for n,j in enumerate(data):\n",
    "            if j == 0:\n",
    "                data = np.append(data, 9)\n",
    "                data[n] = 7\n",
    "\n",
    "    return len(data)"
   ]
  },
  {
   "cell_type": "code",
   "execution_count": 45,
   "metadata": {},
   "outputs": [
    {
     "name": "stdout",
     "output_type": "stream",
     "text": [
      "395627\n"
     ]
    }
   ],
   "source": [
    "count = looping(data)\n",
    "print(count)"
   ]
  },
  {
   "cell_type": "markdown",
   "metadata": {},
   "source": [
    "# Part 2 - I knew this was coming"
   ]
  },
  {
   "cell_type": "code",
   "execution_count": 202,
   "metadata": {},
   "outputs": [],
   "source": [
    "f = open('Day6input.txt', 'r')\n",
    "data = f.read()\n",
    "data = data.split(',')\n",
    "data = np.array([float(i) for i in data])"
   ]
  },
  {
   "cell_type": "code",
   "execution_count": 203,
   "metadata": {},
   "outputs": [],
   "source": [
    "# So I guess for a set of fish in an array you can go through first cycle without any newborns giving birth \n",
    "# Essentially you just need to work out what age everyone else we be when the new borns enter the main cycle\n",
    "# this will happy at +2 of those who gave birth to them"
   ]
  },
  {
   "cell_type": "code",
   "execution_count": 204,
   "metadata": {},
   "outputs": [],
   "source": [
    "numage1 = np.count_nonzero(data == 1)\n",
    "numage2 = np.count_nonzero(data == 2)\n",
    "numage3 = np.count_nonzero(data == 3)\n",
    "numage4 = np.count_nonzero(data == 4)\n",
    "numage5 = np.count_nonzero(data == 5)\n",
    "numage6 = np.count_nonzero(data == 6)"
   ]
  },
  {
   "cell_type": "code",
   "execution_count": 205,
   "metadata": {},
   "outputs": [],
   "source": [
    "numage = np.array([0, numage1, numage2, numage3, numage4, numage5, numage6, 0, 0], dtype = 'int64') \n",
    "# list of how many of each age, could probs loop off this but think a cleverer thing can be done\n",
    "# fuck it loop off this"
   ]
  },
  {
   "cell_type": "code",
   "execution_count": 206,
   "metadata": {},
   "outputs": [],
   "source": [
    "sumlist = []\n",
    "for i in range(1, 257):\n",
    "    new = numage[0]\n",
    "    numage[0:6] = numage[1:7]\n",
    "    numage[6] = new+numage[7]\n",
    "    numage[7] = numage[8]\n",
    "    numage[8] = new\n",
    "    sumlist.append(sum(numage))"
   ]
  },
  {
   "cell_type": "code",
   "execution_count": 207,
   "metadata": {},
   "outputs": [
    {
     "data": {
      "text/plain": [
       "[<matplotlib.lines.Line2D at 0x213378fec88>]"
      ]
     },
     "execution_count": 207,
     "metadata": {},
     "output_type": "execute_result"
    },
    {
     "data": {
      "image/png": "[encoded data removed]",
      "text/plain": [
       "<Figure size 432x288 with 1 Axes>"
      ]
     },
     "metadata": {
      "needs_background": "light"
     },
     "output_type": "display_data"
    }
   ],
   "source": [
    "import matplotlib.pylab as plt\n",
    "plt.plot(sumlist)"
   ]
  },
  {
   "cell_type": "code",
   "execution_count": 208,
   "metadata": {},
   "outputs": [
    {
     "data": {
      "text/plain": [
       "1767323539209"
      ]
     },
     "execution_count": 208,
     "metadata": {},
     "output_type": "execute_result"
    }
   ],
   "source": [
    "sumlist[-1]"
   ]
  },
  {
   "cell_type": "code",
   "execution_count": null,
   "metadata": {},
   "outputs": [],
   "source": []
  }
 ],
 "metadata": {
  "kernelspec": {
   "display_name": "Python 3",
   "language": "python",
   "name": "python3"
  },
  "language_info": {
   "codemirror_mode": {
    "name": "ipython",
    "version": 3
   },
   "file_extension": ".py",
   "mimetype": "text/x-python",
   "name": "python",
   "nbconvert_exporter": "python",
   "pygments_lexer": "ipython3",
   "version": "3.7.1"
  }
 },
 "nbformat": 4,
 "nbformat_minor": 2
}
