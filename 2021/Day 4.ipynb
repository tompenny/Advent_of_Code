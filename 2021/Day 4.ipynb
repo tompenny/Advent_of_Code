{
 "cells": [
  {
   "cell_type": "markdown",
   "metadata": {},
   "source": [
    "# Part 1"
   ]
  },
  {
   "cell_type": "code",
   "execution_count": 1,
   "metadata": {},
   "outputs": [],
   "source": [
    "import numpy as np"
   ]
  },
  {
   "cell_type": "code",
   "execution_count": 244,
   "metadata": {},
   "outputs": [],
   "source": [
    "f = open('Day4input.txt', 'r')\n",
    "data = f.read()\n",
    "data = data.split('\\n\\n')\n",
    "numbers = np.array([int(i) for i in data[0].split(',')])\n",
    "boards = [i.split('\\n') for i in data[1:]]"
   ]
  },
  {
   "cell_type": "code",
   "execution_count": 237,
   "metadata": {},
   "outputs": [],
   "source": [
    "boardsfinal = np.zeros((len(boards), 5, 5))\n",
    "boardsfound = np.zeros((len(boards), 5, 5))\n",
    "for m, j in enumerate(boards):\n",
    "    board = [i.split(' ') for i in j]\n",
    "    boardtmp = np.zeros((5, 5))\n",
    "    for n,k in enumerate(board):\n",
    "        boardtmp[n] = [int(i) for i in k if i != '']\n",
    "    boardsfinal[m] = boardtmp"
   ]
  },
  {
   "cell_type": "code",
   "execution_count": 238,
   "metadata": {},
   "outputs": [
    {
     "name": "stdout",
     "output_type": "stream",
     "text": [
      "[[24. 19. 78.  4. 69.]\n",
      " [52. 38.  7. 58. 21.]\n",
      " [20. 23. 10. 91. 42.]\n",
      " [44. 36. 25. 45. 49.]\n",
      " [94. 51. 98. 99. 27.]]\n",
      "[[0. 0. 0. 1. 0.]\n",
      " [0. 0. 0. 1. 1.]\n",
      " [1. 1. 1. 1. 1.]\n",
      " [0. 1. 1. 0. 0.]\n",
      " [0. 0. 0. 0. 0.]]\n",
      "33348.0\n"
     ]
    }
   ],
   "source": [
    "for i in numbers:\n",
    "    hits = np.where(boardsfinal == i)\n",
    "    for j in range(len(hits[0])):\n",
    "        boardsfound[hits[0][j], hits[1][j], hits[2][j]] = 1\n",
    "        Truetest1 = np.array([True for i in boardsfound[hits[0][j]] if sum(i) == 5])\n",
    "        Truetest2 = np.array([True for i in np.transpose(boardsfound[hits[0][j]]) if sum(i) == 5])\n",
    "        if Truetest1.any() == True or Truetest2.any() ==True:\n",
    "            winningboard = boardsfinal[hits[0][j]]\n",
    "            winningmask = boardsfound[hits[0][j]]\n",
    "            break\n",
    "    else:\n",
    "        continue\n",
    "    break\n",
    "print(winningboard)\n",
    "print(winningmask)\n",
    "print(sum(sum(winningboard*(winningmask-1)*-1))*i)"
   ]
  },
  {
   "cell_type": "markdown",
   "metadata": {},
   "source": [
    "# Part 2"
   ]
  },
  {
   "cell_type": "code",
   "execution_count": 338,
   "metadata": {},
   "outputs": [],
   "source": [
    "f = open('Day4input.txt', 'r')\n",
    "data = f.read()\n",
    "data = data.split('\\n\\n')\n",
    "numbers = np.array([int(i) for i in data[0].split(',')])\n",
    "boards = [i.split('\\n') for i in data[1:]]"
   ]
  },
  {
   "cell_type": "code",
   "execution_count": 343,
   "metadata": {},
   "outputs": [],
   "source": [
    "boardsfinal = np.zeros((len(boards), 5, 5))\n",
    "boardsfound = np.zeros((len(boards), 5, 5))\n",
    "for m, j in enumerate(boards):\n",
    "    board = [i.split(' ') for i in j]\n",
    "    boardtmp = np.zeros((5, 5))\n",
    "    for n,k in enumerate(board):\n",
    "        boardtmp[n] = [int(i) for i in k if i != '']\n",
    "    boardsfinal[m] = boardtmp"
   ]
  },
  {
   "cell_type": "code",
   "execution_count": 344,
   "metadata": {},
   "outputs": [
    {
     "name": "stdout",
     "output_type": "stream",
     "text": [
      "[[49. 81. 31.  9. 60.]\n",
      " [33. 15. 29. 38. 66.]\n",
      " [90. 43.  2. 39. 89.]\n",
      " [24. 40. 63. 36. 91.]\n",
      " [45. 68. 62. 87. 12.]]\n",
      "[[1. 1. 0. 1. 0.]\n",
      " [0. 0. 1. 1. 1.]\n",
      " [1. 1. 1. 1. 1.]\n",
      " [0. 1. 1. 1. 1.]\n",
      " [0. 1. 1. 1. 1.]]\n",
      "8112.0\n"
     ]
    }
   ],
   "source": [
    "lostindex = 0\n",
    "for i in numbers:\n",
    "    hits = np.where(boardsfinal == i)\n",
    "    numwon = 0\n",
    "    for j in range(len(hits[0])):\n",
    "        boardsfound[hits[0][j], hits[1][j], hits[2][j]] = 1\n",
    "    for n, j in enumerate(boardsfound):\n",
    "        Truetest1 = np.array([True for i in j if sum(i) == 5])\n",
    "        Truetest2 = np.array([True for i in np.transpose(j) if sum(i) == 5])\n",
    "        #print(Truetest1, Truetest2, n, i)\n",
    "        if Truetest1.any() == True or Truetest2.any() ==True:\n",
    "            numwon+=1\n",
    "            #print(numwon, n)\n",
    "        if Truetest1.any() == False and Truetest2.any() ==False:\n",
    "            lostindex = n\n",
    "            #print(lostindex)\n",
    "        if numwon == len(boards):\n",
    "            losingboard = boardsfinal[lostindex]\n",
    "            losingmask = boardsfound[lostindex]\n",
    "            break\n",
    "    else:\n",
    "        continue\n",
    "    break\n",
    "print(losingboard)\n",
    "print(losingmask)\n",
    "print(sum(sum(losingboard*(losingmask-1)*-1))*i)"
   ]
  }
 ],
 "metadata": {
  "kernelspec": {
   "display_name": "Python 3",
   "language": "python",
   "name": "python3"
  },
  "language_info": {
   "codemirror_mode": {
    "name": "ipython",
    "version": 3
   },
   "file_extension": ".py",
   "mimetype": "text/x-python",
   "name": "python",
   "nbconvert_exporter": "python",
   "pygments_lexer": "ipython3",
   "version": "3.7.1"
  }
 },
 "nbformat": 4,
 "nbformat_minor": 2
}
