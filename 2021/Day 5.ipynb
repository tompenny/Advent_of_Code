{
 "cells": [
  {
   "cell_type": "markdown",
   "metadata": {},
   "source": [
    "# Part 1"
   ]
  },
  {
   "cell_type": "code",
   "execution_count": 1,
   "metadata": {},
   "outputs": [],
   "source": [
    "import numpy as np"
   ]
  },
  {
   "cell_type": "code",
   "execution_count": 92,
   "metadata": {},
   "outputs": [],
   "source": [
    "f = open('Day5input.txt', 'r')\n",
    "data = f.read()\n",
    "data = data.split('\\n')\n",
    "data = np.array([i.split(' -> ') for i in data])\n",
    "initcoords = data[:,0]\n",
    "finalcoords = data[:,1]\n",
    "initcoords = np.array([i.split(',') for i in initcoords], dtype = 'int')\n",
    "finalcoords = np.array([i.split(',') for i in finalcoords], dtype = 'int')\n",
    "dist = finalcoords-initcoords"
   ]
  },
  {
   "cell_type": "code",
   "execution_count": 85,
   "metadata": {},
   "outputs": [],
   "source": [
    "def sign(a):\n",
    "    if a <0:\n",
    "        return -1\n",
    "    else:\n",
    "        return 1"
   ]
  },
  {
   "cell_type": "code",
   "execution_count": 87,
   "metadata": {},
   "outputs": [
    {
     "name": "stdout",
     "output_type": "stream",
     "text": [
      "7085\n"
     ]
    }
   ],
   "source": [
    "maxi = np.max([finalcoords,initcoords])\n",
    "floormap = np.zeros((maxi+1,maxi+1))\n",
    "for n, i in enumerate(dist):\n",
    "    if i[0] == 0 or i[1] == 0:\n",
    "        sign0 = sign(i[0])\n",
    "        sign1 = sign(i[1])\n",
    "        ycoords = [i for i in np.arange(initcoords[n][0], initcoords[n][0]+i[0]+sign0*1, sign0*1)]\n",
    "        xcoords = [i for i in np.arange(initcoords[n][1], initcoords[n][1]+i[1]+sign1*1, sign1*1)]\n",
    "        ycoordsnew = ycoords*len(xcoords)\n",
    "        xcoordsnew = xcoords*len(ycoords)\n",
    "        floormap[[xcoordsnew], [ycoordsnew]]+=1\n",
    "count = np.count_nonzero(floormap > 1)\n",
    "print(count)"
   ]
  },
  {
   "cell_type": "markdown",
   "metadata": {},
   "source": [
    "# Part 2"
   ]
  },
  {
   "cell_type": "code",
   "execution_count": 93,
   "metadata": {},
   "outputs": [
    {
     "name": "stdout",
     "output_type": "stream",
     "text": [
      "20271\n"
     ]
    }
   ],
   "source": [
    "maxi = np.max([finalcoords,initcoords])\n",
    "floormap = np.zeros((maxi+1,maxi+1))\n",
    "for n, i in enumerate(dist):\n",
    "    sign0 = sign(i[0])\n",
    "    sign1 = sign(i[1])\n",
    "    ycoords = [i for i in np.arange(initcoords[n][0], initcoords[n][0]+i[0]+sign0*1, sign0*1)]\n",
    "    xcoords = [i for i in np.arange(initcoords[n][1], initcoords[n][1]+i[1]+sign1*1, sign1*1)]\n",
    "\n",
    "    if i[0] == 0 or i[1] == 0:\n",
    "        ycoordsnew = ycoords*len(xcoords)\n",
    "        xcoordsnew = xcoords*len(ycoords)\n",
    "    else:\n",
    "        ycoordsnew = ycoords\n",
    "        xcoordsnew = xcoords\n",
    "        \n",
    "    floormap[[xcoordsnew], [ycoordsnew]]+=1\n",
    "count = np.count_nonzero(floormap > 1)\n",
    "print(count)"
   ]
  }
 ],
 "metadata": {
  "kernelspec": {
   "display_name": "Python 3",
   "language": "python",
   "name": "python3"
  },
  "language_info": {
   "codemirror_mode": {
    "name": "ipython",
    "version": 3
   },
   "file_extension": ".py",
   "mimetype": "text/x-python",
   "name": "python",
   "nbconvert_exporter": "python",
   "pygments_lexer": "ipython3",
   "version": "3.7.1"
  }
 },
 "nbformat": 4,
 "nbformat_minor": 2
}
