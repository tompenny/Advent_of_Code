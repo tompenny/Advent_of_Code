{
 "cells": [
  {
   "cell_type": "markdown",
   "metadata": {},
   "source": [
    "# Part 1"
   ]
  },
  {
   "cell_type": "code",
   "execution_count": 1,
   "metadata": {},
   "outputs": [],
   "source": [
    "import numpy as np"
   ]
  },
  {
   "cell_type": "code",
   "execution_count": 103,
   "metadata": {},
   "outputs": [],
   "source": [
    "f = open('Day3input.txt', 'r')\n",
    "data = f.read()\n",
    "dataformat = data.split('\\n')"
   ]
  },
  {
   "cell_type": "code",
   "execution_count": 64,
   "metadata": {},
   "outputs": [],
   "source": [
    "gamma = ''\n",
    "for i in range(len(dataformat[0])):\n",
    "    ones = 0\n",
    "    zeros = 0\n",
    "    for j in dataformat:\n",
    "        if j[i] == '1':\n",
    "            ones+=1\n",
    "        else:\n",
    "            zeros+=1\n",
    "    if ones > zeros:\n",
    "        gamma += '1'\n",
    "    else:\n",
    "        gamma+= '0'\n",
    "        \n",
    "epsilon = ''\n",
    "for i in gamma:\n",
    "    if i=='0':\n",
    "        epsilon += '1'\n",
    "    else:\n",
    "        epsilon+= '0'"
   ]
  },
  {
   "cell_type": "code",
   "execution_count": 66,
   "metadata": {},
   "outputs": [],
   "source": [
    "def bin_to_dec(binary):\n",
    "    dec = 0\n",
    "    for n, i in enumerate(binary[::-1]):\n",
    "        dec+=int(i)*2**n\n",
    "    return dec"
   ]
  },
  {
   "cell_type": "code",
   "execution_count": 67,
   "metadata": {},
   "outputs": [
    {
     "name": "stdout",
     "output_type": "stream",
     "text": [
      "4001724\n"
     ]
    }
   ],
   "source": [
    "product = bin_to_dec(gamma)*bin_to_dec(epsilon)\n",
    "print(product)"
   ]
  },
  {
   "cell_type": "markdown",
   "metadata": {},
   "source": [
    "# Part 2"
   ]
  },
  {
   "cell_type": "code",
   "execution_count": 104,
   "metadata": {},
   "outputs": [],
   "source": [
    "oxlistfull =dataformat.copy()\n",
    "co2listfull = dataformat.copy()\n",
    "oxlisttmp = []\n",
    "co2listtmp = []\n",
    "for i in range(len(dataformat[0])):\n",
    "    ones = 0\n",
    "    zeros = 0\n",
    "    if len(co2listfull) != 1:\n",
    "        for j in oxlistfull:\n",
    "            if j[i] == '1':\n",
    "                ones+=1\n",
    "            else:\n",
    "                zeros+=1\n",
    "        if zeros > ones:\n",
    "            for j in oxlistfull:\n",
    "                if j[i] == '0':\n",
    "                    oxlisttmp.append(j)\n",
    "        else:\n",
    "            for j in oxlistfull:\n",
    "                if j[i] == '1':\n",
    "                    oxlisttmp.append(j)\n",
    "        oxlistfull = oxlisttmp.copy()\n",
    "        oxlisttmp = []\n",
    "        \n",
    "for i in range(len(dataformat[0])):\n",
    "    ones = 0\n",
    "    zeros = 0\n",
    "    if len(co2listfull) != 1:\n",
    "        for j in co2listfull:\n",
    "            if j[i] == '1':\n",
    "                ones+=1\n",
    "            else:\n",
    "                zeros+=1\n",
    "        if zeros > ones:\n",
    "            for j in co2listfull:\n",
    "                if j[i] == '1':\n",
    "                    co2listtmp.append(j)\n",
    "        else:\n",
    "            for j in co2listfull:\n",
    "                if j[i] == '0':\n",
    "                    co2listtmp.append(j)\n",
    "        co2listfull = co2listtmp.copy()\n",
    "        co2listtmp = []"
   ]
  },
  {
   "cell_type": "code",
   "execution_count": 107,
   "metadata": {},
   "outputs": [
    {
     "name": "stdout",
     "output_type": "stream",
     "text": [
      "587895\n"
     ]
    }
   ],
   "source": [
    "ox = oxlistfull[0]\n",
    "co2 = co2listfull[0]\n",
    "product = bin_to_dec(ox)*bin_to_dec(co2)\n",
    "print(product)"
   ]
  }
 ],
 "metadata": {
  "kernelspec": {
   "display_name": "Python 3",
   "language": "python",
   "name": "python3"
  },
  "language_info": {
   "codemirror_mode": {
    "name": "ipython",
    "version": 3
   },
   "file_extension": ".py",
   "mimetype": "text/x-python",
   "name": "python",
   "nbconvert_exporter": "python",
   "pygments_lexer": "ipython3",
   "version": "3.7.1"
  }
 },
 "nbformat": 4,
 "nbformat_minor": 2
}
