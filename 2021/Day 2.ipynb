{
 "cells": [
  {
   "cell_type": "markdown",
   "metadata": {},
   "source": [
    "# Part One"
   ]
  },
  {
   "cell_type": "code",
   "execution_count": null,
   "metadata": {},
   "outputs": [],
   "source": [
    "import numpy as np"
   ]
  },
  {
   "cell_type": "code",
   "execution_count": 34,
   "metadata": {},
   "outputs": [],
   "source": [
    "f = open('Day2input.txt', 'r')\n",
    "data = f.read()\n",
    "dataformat = data.split('\\n')\n",
    "dataformat = [i.split(' ') for i in dataformat]\n",
    "instruction = np.array(dataformat)[:,0]\n",
    "distance = np.array(dataformat)[:,1]"
   ]
  },
  {
   "cell_type": "code",
   "execution_count": 35,
   "metadata": {},
   "outputs": [],
   "source": [
    "depth = 0\n",
    "length = 0\n",
    "for i, inst in enumerate(instruction):\n",
    "    if inst == 'down':\n",
    "        depth += int(distance[i])\n",
    "    elif inst == 'up':\n",
    "        depth -= int(distance[i])\n",
    "    else:\n",
    "        length += int(distance[i])"
   ]
  },
  {
   "cell_type": "code",
   "execution_count": 37,
   "metadata": {},
   "outputs": [
    {
     "name": "stdout",
     "output_type": "stream",
     "text": [
      "738\n",
      "2011\n",
      "1484118\n"
     ]
    }
   ],
   "source": [
    "print(depth)\n",
    "print(length)\n",
    "print(depth*length)"
   ]
  },
  {
   "cell_type": "markdown",
   "metadata": {},
   "source": [
    "# Part two"
   ]
  },
  {
   "cell_type": "code",
   "execution_count": 38,
   "metadata": {},
   "outputs": [],
   "source": [
    "aim = 0\n",
    "depth = 0\n",
    "length = 0\n",
    "for i, inst in enumerate(instruction):\n",
    "    if inst == 'down':\n",
    "        aim += int(distance[i])\n",
    "    elif inst == 'up':\n",
    "        aim -= int(distance[i])\n",
    "    else:\n",
    "        length += int(distance[i])\n",
    "        depth += aim*int(distance[i])"
   ]
  },
  {
   "cell_type": "code",
   "execution_count": 39,
   "metadata": {},
   "outputs": [
    {
     "name": "stdout",
     "output_type": "stream",
     "text": [
      "727910\n",
      "2011\n",
      "1463827010\n"
     ]
    }
   ],
   "source": [
    "print(depth)\n",
    "print(length)\n",
    "print(depth*length)"
   ]
  }
 ],
 "metadata": {
  "kernelspec": {
   "display_name": "Python 3",
   "language": "python",
   "name": "python3"
  },
  "language_info": {
   "codemirror_mode": {
    "name": "ipython",
    "version": 3
   },
   "file_extension": ".py",
   "mimetype": "text/x-python",
   "name": "python",
   "nbconvert_exporter": "python",
   "pygments_lexer": "ipython3",
   "version": "3.7.1"
  }
 },
 "nbformat": 4,
 "nbformat_minor": 2
}
