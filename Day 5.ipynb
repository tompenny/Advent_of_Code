{
 "cells": [
  {
   "cell_type": "code",
   "execution_count": 1,
   "metadata": {},
   "outputs": [],
   "source": [
    "import numpy as np"
   ]
  },
  {
   "cell_type": "code",
   "execution_count": 4,
   "metadata": {},
   "outputs": [],
   "source": [
    "f = open('data_day5', 'r')\n",
    "data = f.read()\n",
    "\n",
    "dataformat = data.split()"
   ]
  },
  {
   "cell_type": "code",
   "execution_count": 63,
   "metadata": {},
   "outputs": [],
   "source": [
    "rowlist = []\n",
    "collist = []\n",
    "indlist = []\n",
    "for j in dataformat:\n",
    "    row = 0\n",
    "    col = 0\n",
    "    for n, i in enumerate(j):\n",
    "        #print(n)\n",
    "        if i == 'B':\n",
    "            row += 64/(2**n)\n",
    "        if i == 'R':\n",
    "            col += 4/(2**(n-7))\n",
    "    rowlist.append(row)\n",
    "    collist.append(col)\n",
    "    indlist.append(row*8 + col)\n",
    "    \n",
    "print(np.max(indlist))"
   ]
  },
  {
   "cell_type": "code",
   "execution_count": 67,
   "metadata": {},
   "outputs": [],
   "source": [
    "sortedlist = sorted(indlist)\n",
    "truelist = list(range(int(np.min(sortedlist)), int(np.max(sortedlist))))\n",
    "difflist = np.array(sortedlist) - np.array(truelist)\n",
    "print(np.argmax(difflist) + np.min(sortedlist))\n",
    "sortedlist[int(np.argmax(difflist))-1:int(np.argmax(difflist))+1]"
   ]
  }
 ],
 "metadata": {
  "kernelspec": {
   "display_name": "Python 3",
   "language": "python",
   "name": "python3"
  },
  "language_info": {
   "codemirror_mode": {
    "name": "ipython",
    "version": 3
   },
   "file_extension": ".py",
   "mimetype": "text/x-python",
   "name": "python",
   "nbconvert_exporter": "python",
   "pygments_lexer": "ipython3",
   "version": "3.7.1"
  }
 },
 "nbformat": 4,
 "nbformat_minor": 2
}
