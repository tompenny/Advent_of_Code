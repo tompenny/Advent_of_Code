{
 "cells": [
  {
   "cell_type": "code",
   "execution_count": 3,
   "metadata": {},
   "outputs": [],
   "source": [
    "import numpy as np\n",
    "import cmath\n",
    "\n",
    "f = open('data_day14', 'r')\n",
    "data = f.read()\n",
    "\n",
    "dataformat = data.split('\\n')"
   ]
  },
  {
   "cell_type": "code",
   "execution_count": 8,
   "metadata": {},
   "outputs": [
    {
     "data": {
      "text/plain": [
       "['mask', '=', '100X000X100X00XX1010X0001X11XX100110']"
      ]
     },
     "execution_count": 8,
     "metadata": {},
     "output_type": "execute_result"
    }
   ],
   "source": [
    "dataformat[0].split()"
   ]
  },
  {
   "cell_type": "code",
   "execution_count": 9,
   "metadata": {},
   "outputs": [],
   "source": [
    "testdata = ['mask = XXXXXXXXXXXXXXXXXXXXXXXXXXXXX1XXXX0X',\n",
    "'mem[8] = 11',\n",
    "'mem[7] = 101',\n",
    "'mem[8] = 0']"
   ]
  },
  {
   "cell_type": "code",
   "execution_count": 82,
   "metadata": {},
   "outputs": [
    {
     "name": "stdout",
     "output_type": "stream",
     "text": [
      "65400\n"
     ]
    }
   ],
   "source": [
    "memadd = []\n",
    "for i in dataformat[:-1]:\n",
    "    if i.split()[0].split('[')[0] == 'mem':\n",
    "        memadd.append(int(i.split('[')[1].split(']')[0]))\n",
    "print(np.max(memadd))\n",
    "highest_mem = np.max(memadd)"
   ]
  },
  {
   "cell_type": "code",
   "execution_count": null,
   "metadata": {},
   "outputs": [],
   "source": [
    "def bin2dec(binary):\n",
    "    num = 0\n",
    "    for n, i in enumerate(str(binary)[::-1]):\n",
    "        num += int(i)*2**n\n",
    "    return num"
   ]
  },
  {
   "cell_type": "code",
   "execution_count": 129,
   "metadata": {},
   "outputs": [
    {
     "name": "stdout",
     "output_type": "stream",
     "text": [
      "11179633149677.0\n"
     ]
    }
   ],
   "source": [
    "mem = np.zeros(highest_mem)\n",
    "for i in dataformat[:-1]:\n",
    "    if i.split()[0] == 'mask':\n",
    "        mask = i.split()[2]\n",
    "    else:\n",
    "        n = int(i.split('[')[1].split(']')[0])\n",
    "        num = i.split()[2]\n",
    "        num_bin = np.binary_repr(int(num), 36)\n",
    "        for m, j in enumerate(mask):\n",
    "            if j != 'X':\n",
    "                num_bin = num_bin[:m] + j + num_bin[m+1:]\n",
    "        #print(num_bin)\n",
    "        mem[n-1] = bin2dec(int(num_bin))\n",
    "        #print(mem[n-1])\n",
    "        \n",
    "#for n, i in enumerate(mem):\n",
    "#    mem[n] = bin2dec(int(i))\n",
    "#    #print(mem[n])\n",
    "\n",
    "print(sum(mem))"
   ]
  },
  {
   "cell_type": "code",
   "execution_count": null,
   "metadata": {},
   "outputs": [],
   "source": [
    "def findandreplaceX(n):\n",
    "    n_list = []\n",
    "    #k = 0\n",
    "    for j in [0,1]:\n",
    "        k = 0\n",
    "        for m, i in enumerate(n):\n",
    "            if i == 'X':\n",
    "                k += 1\n",
    "                n_bin = n[:m] + str(j) + n[m+1:]\n",
    "                break\n",
    "        for i in n_bin:\n",
    "            if i == 'X':\n",
    "                k+=1\n",
    "                \n",
    "        if k >= 2:\n",
    "            n_rec = findandreplaceX(n_bin)\n",
    "            for l in n_rec:\n",
    "                n_list.append(l)\n",
    "        else:\n",
    "            n_list.append(n_bin)\n",
    "    return n_list\n",
    "                \n",
    "            "
   ]
  },
  {
   "cell_type": "code",
   "execution_count": 205,
   "metadata": {},
   "outputs": [],
   "source": [
    "testdata = ['mask = 000000000000000000000000000000X1001X',\n",
    "'mem[42] = 100',\n",
    "'mask = 00000000000000000000000000000000X0XX',\n",
    "'mem[26] = 1',\n",
    "'mem[26] = 2']"
   ]
  },
  {
   "cell_type": "code",
   "execution_count": 209,
   "metadata": {},
   "outputs": [
    {
     "name": "stdout",
     "output_type": "stream",
     "text": [
      "4822600194774\n"
     ]
    }
   ],
   "source": [
    "mem = []\n",
    "mem_ind = []\n",
    "for i in dataformat[:-1]:\n",
    "    if i.split()[0] == 'mask':\n",
    "        mask = i.split()[2]\n",
    "    else:\n",
    "        n = int(i.split('[')[1].split(']')[0])\n",
    "        num = i.split()[2]\n",
    "        n_bin = np.binary_repr(n, 36)\n",
    "        \n",
    "        for m, j in enumerate(mask):\n",
    "            if j != '0':\n",
    "                n_bin = n_bin[:m] + j + n_bin[m+1:]\n",
    "       # print(n_bin)\n",
    "        for j in findandreplaceX(n_bin):\n",
    "            mem_num = bin2dec(j)\n",
    "            if mem_num in mem_ind:\n",
    "                mem[mem_ind.index(mem_num)] = int(num)\n",
    "            else:\n",
    "                mem.append(int(num))\n",
    "                mem_ind.append(mem_num)\n",
    "        #print(mem[n-1])\n",
    "        \n",
    "#for n, i in enumerate(mem):\n",
    "#    mem[n] = bin2dec(int(i))\n",
    "#    #print(mem[n])\n",
    "\n",
    "print(sum(mem))"
   ]
  }
 ],
 "metadata": {
  "kernelspec": {
   "display_name": "Python 3",
   "language": "python",
   "name": "python3"
  },
  "language_info": {
   "codemirror_mode": {
    "name": "ipython",
    "version": 3
   },
   "file_extension": ".py",
   "mimetype": "text/x-python",
   "name": "python",
   "nbconvert_exporter": "python",
   "pygments_lexer": "ipython3",
   "version": "3.7.1"
  }
 },
 "nbformat": 4,
 "nbformat_minor": 2
}
