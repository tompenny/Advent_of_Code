{
 "cells": [
  {
   "cell_type": "code",
   "execution_count": 1,
   "metadata": {},
   "outputs": [],
   "source": [
    "import pandas as pd \n",
    "data = pd.read_csv('C:\\\\Users\\\\Tom\\\\Documents\\\\Advent of Code 2020\\\\data_day2.csv') \n"
   ]
  },
  {
   "cell_type": "code",
   "execution_count": 3,
   "metadata": {},
   "outputs": [],
   "source": [
    "lim1list = []\n",
    "lim2list = []\n",
    "letterlist = []\n",
    "passlist = []\n",
    "for j in data['data']:\n",
    "    lim1 = '0'\n",
    "    lim2 ='0'\n",
    "    #letter = []\n",
    "    #password_list = []\n",
    "    n = 0\n",
    "    k = 0\n",
    "    for i in j:\n",
    "        if n == 0:\n",
    "            if i != '-':\n",
    "                lim1 = lim1 + i\n",
    "            else:\n",
    "                n = n+1\n",
    "        if n == 1:\n",
    "            if i != ' ':\n",
    "                if i != '-':\n",
    "                    lim2 = lim2 + i\n",
    "            else:\n",
    "                n = n+1\n",
    "        if n == 2:\n",
    "            if i != ' ':\n",
    "                letter = i\n",
    "                n = n+1\n",
    "                password = data['data'][0][k+3:]\n",
    "                break \n",
    "        k = k +1"
   ]
  },
  {
   "cell_type": "code",
   "execution_count": 5,
   "metadata": {},
   "outputs": [
    {
     "name": "stdout",
     "output_type": "stream",
     "text": [
      "422\n"
     ]
    }
   ],
   "source": [
    "TFtot = 0\n",
    "for j in data['data']:\n",
    "    lim1 = '0'\n",
    "    lim2 ='0'\n",
    "    n = 0\n",
    "    k = 0\n",
    "    for i in j:\n",
    "        if n == 0:\n",
    "            if i != '-':\n",
    "                lim1 = lim1 + i\n",
    "            else:\n",
    "                n = n+1\n",
    "        if n == 1:\n",
    "            if i != ' ':\n",
    "                if i != '-':\n",
    "                    lim2 = lim2 + i\n",
    "            else:\n",
    "                n = n+1\n",
    "        if n == 2:\n",
    "            if i != ' ':\n",
    "                letter = i\n",
    "                n = n+1\n",
    "                password = j[k+3:]\n",
    "                break \n",
    "        k = k +1\n",
    "    appears = 0\n",
    "    for i in password:\n",
    "        if i == letter:\n",
    "            appears = appears + 1\n",
    "    if appears >= int(lim1):\n",
    "        if appears <= int(lim2):\n",
    "            TF = 1\n",
    "        else:\n",
    "            TF = 0\n",
    "    else:\n",
    "        TF = 0\n",
    "    TFtot = TFtot + TF\n",
    "print(TFtot)"
   ]
  },
  {
   "cell_type": "code",
   "execution_count": 6,
   "metadata": {},
   "outputs": [
    {
     "name": "stdout",
     "output_type": "stream",
     "text": [
      "451\n"
     ]
    }
   ],
   "source": [
    "TFtot = 0\n",
    "for j in data['data']:\n",
    "    lim1 = '0'\n",
    "    lim2 ='0'\n",
    "    n = 0\n",
    "    k = 0\n",
    "    for i in j:\n",
    "        if n == 0:\n",
    "            if i != '-':\n",
    "                lim1 = lim1 + i\n",
    "            else:\n",
    "                n = n+1\n",
    "        if n == 1:\n",
    "            if i != ' ':\n",
    "                if i != '-':\n",
    "                    lim2 = lim2 + i\n",
    "            else:\n",
    "                n = n+1\n",
    "        if n == 2:\n",
    "            if i != ' ':\n",
    "                letter = i\n",
    "                n = n+1\n",
    "                password = j[k+3:]\n",
    "                break \n",
    "        k = k +1\n",
    "    l = 1\n",
    "    appears1 = '1'\n",
    "    appears2 = '1'\n",
    "    for i in password:\n",
    "        if l == int(lim1):\n",
    "            appears1 = i\n",
    "        \n",
    "        if l == int(lim2):\n",
    "            appears2 = i\n",
    "        l = l +1\n",
    "        \n",
    "    if appears1 != letter:\n",
    "        if appears2 != letter:\n",
    "            TF = 0\n",
    "        else:\n",
    "            TF = 1\n",
    "    if appears1 == letter:\n",
    "        if appears2 != letter:\n",
    "            TF = 1\n",
    "        else:\n",
    "            TF = 0\n",
    "    \n",
    "    TFtot = TFtot + TF\n",
    "print(TFtot)"
   ]
  }
 ],
 "metadata": {
  "kernelspec": {
   "display_name": "Python 3",
   "language": "python",
   "name": "python3"
  },
  "language_info": {
   "codemirror_mode": {
    "name": "ipython",
    "version": 3
   },
   "file_extension": ".py",
   "mimetype": "text/x-python",
   "name": "python",
   "nbconvert_exporter": "python",
   "pygments_lexer": "ipython3",
   "version": "3.7.1"
  }
 },
 "nbformat": 4,
 "nbformat_minor": 2
}
