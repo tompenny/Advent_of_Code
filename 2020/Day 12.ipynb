{
 "cells": [
  {
   "cell_type": "code",
   "execution_count": 1,
   "metadata": {},
   "outputs": [],
   "source": [
    "import numpy as np\n",
    "import cmath\n",
    "\n",
    "f = open('data_day12', 'r')\n",
    "data = f.read()\n",
    "\n",
    "dataformat = data.split()"
   ]
  },
  {
   "cell_type": "code",
   "execution_count": 36,
   "metadata": {},
   "outputs": [],
   "source": [
    "def phasewrap(phase):\n",
    "    return (phase + np.pi) % (2 * np.pi) - np.pi"
   ]
  },
  {
   "cell_type": "code",
   "execution_count": 78,
   "metadata": {},
   "outputs": [],
   "source": [
    "#dataformattest = ['L270', 'R180', 'R90']"
   ]
  },
  {
   "cell_type": "code",
   "execution_count": 80,
   "metadata": {},
   "outputs": [],
   "source": [
    "pos = np.array([0, 0])\n",
    "direction = np.array([0, 1])\n",
    "for i in dataformat:\n",
    "    instr = i[0]\n",
    "    num = int(i[1:])\n",
    "    if instr == 'L':\n",
    "        curphase = cmath.polar(direction[0] + direction[1]*1j)[1]\n",
    "        phase = phasewrap(curphase - num/360*2*np.pi)\n",
    "        z = cmath.rect(1, phase)\n",
    "        direction[0] = z.real\n",
    "        direction[1] = z.imag\n",
    "    if instr == 'R':\n",
    "        curphase = cmath.polar(direction[0] + direction[1]*1j)[1]\n",
    "        phase = phasewrap(curphase + num/360*2*np.pi)\n",
    "        z = cmath.rect(1, phase)\n",
    "        direction[0] = z.real\n",
    "        direction[1] = z.imag\n",
    "    if instr == 'F':\n",
    "        pos = pos + num*direction\n",
    "    if instr == 'E':\n",
    "        pos[1] += num\n",
    "    if instr == 'W':\n",
    "        pos[1] -= num\n",
    "    if instr == 'N':\n",
    "        pos[0] += num\n",
    "    if instr == 'S':\n",
    "        pos[0] -= num"
   ]
  },
  {
   "cell_type": "code",
   "execution_count": 84,
   "metadata": {},
   "outputs": [
    {
     "data": {
      "text/plain": [
       "962"
      ]
     },
     "execution_count": 84,
     "metadata": {},
     "output_type": "execute_result"
    }
   ],
   "source": [
    "abs(pos[0]) + abs(pos[1])"
   ]
  },
  {
   "cell_type": "code",
   "execution_count": 122,
   "metadata": {},
   "outputs": [],
   "source": [
    "dataformattest = ['F10', 'N3', 'F7', 'R90', 'F11']"
   ]
  },
  {
   "cell_type": "code",
   "execution_count": 128,
   "metadata": {},
   "outputs": [],
   "source": [
    "pos = np.array([0, 0])\n",
    "waypointpos = np.array([1, 10])\n",
    "for i in dataformat:\n",
    "    instr = i[0]\n",
    "    num = int(i[1:])\n",
    "    if instr == 'L':\n",
    "        z = cmath.polar(waypointpos[0] + waypointpos[1]*1j)\n",
    "        curR = z[0]\n",
    "        curphase = z[1]\n",
    "        phase = phasewrap(curphase - num/360*2*np.pi)\n",
    "        z = cmath.rect(curR, phase)\n",
    "        waypointpos[0] = round(z.real)\n",
    "        waypointpos[1] = round(z.imag)\n",
    "    if instr == 'R':\n",
    "        z = cmath.polar(waypointpos[0] + waypointpos[1]*1j)\n",
    "        curR = z[0]\n",
    "        curphase = z[1]\n",
    "        phase = phasewrap(curphase + num/360*2*np.pi)\n",
    "        z = cmath.rect(curR, phase)\n",
    "        waypointpos[0] = round(z.real)\n",
    "        waypointpos[1] = round(z.imag)\n",
    "    if instr == 'F':\n",
    "        pos = pos + num*waypointpos\n",
    "    if instr == 'E':\n",
    "        waypointpos[1] += num\n",
    "    if instr == 'W':\n",
    "        waypointpos[1] -= num\n",
    "    if instr == 'N':\n",
    "        waypointpos[0] += num\n",
    "    if instr == 'S':\n",
    "        waypointpos[0] -= num"
   ]
  },
  {
   "cell_type": "code",
   "execution_count": 129,
   "metadata": {},
   "outputs": [
    {
     "data": {
      "text/plain": [
       "56135"
      ]
     },
     "execution_count": 129,
     "metadata": {},
     "output_type": "execute_result"
    }
   ],
   "source": [
    "abs(pos[0]) + abs(pos[1])"
   ]
  }
 ],
 "metadata": {
  "kernelspec": {
   "display_name": "Python 3",
   "language": "python",
   "name": "python3"
  },
  "language_info": {
   "codemirror_mode": {
    "name": "ipython",
    "version": 3
   },
   "file_extension": ".py",
   "mimetype": "text/x-python",
   "name": "python",
   "nbconvert_exporter": "python",
   "pygments_lexer": "ipython3",
   "version": "3.7.1"
  }
 },
 "nbformat": 4,
 "nbformat_minor": 2
}
