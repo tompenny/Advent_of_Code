{
 "cells": [
  {
   "cell_type": "code",
   "execution_count": 5,
   "metadata": {},
   "outputs": [],
   "source": [
    "f = open('data_day7', 'r')\n",
    "data = f.read()\n",
    "\n",
    "dataformat = data.split('\\n')"
   ]
  },
  {
   "cell_type": "code",
   "execution_count": 188,
   "metadata": {},
   "outputs": [],
   "source": [
    "bag = []\n",
    "contains = []\n",
    "for data in dataformat[:-1]:\n",
    "    line = data.split(' contain ')\n",
    "    bag.append(line[0])\n",
    "    contains.append(line[1])"
   ]
  },
  {
   "cell_type": "code",
   "execution_count": 41,
   "metadata": {},
   "outputs": [],
   "source": [
    "def find_colour(colour, bag, contains):\n",
    "    bags = []\n",
    "    for n, i in enumerate(contains):\n",
    "        if colour in i:\n",
    "            bags.append(bag[n])\n",
    "    return bags"
   ]
  },
  {
   "cell_type": "code",
   "execution_count": 118,
   "metadata": {
    "scrolled": false
   },
   "outputs": [],
   "source": [
    "#running = True\n",
    "newcolours = ['shiny gold']\n",
    "k = 0\n",
    "colours = []\n",
    "while k < 1:\n",
    "    #newcolours2 = []\n",
    "    newcolourstmp = []\n",
    "    for i in newcolours:\n",
    "        #print(i)\n",
    "        newcolours2 = find_colour(i, bag, contains)\n",
    "        for n, j in enumerate(newcolours2):\n",
    "            newcolours2[n] = j.split(' bag')[0]\n",
    "        #print(newcolours2)\n",
    "        for j in newcolours2:\n",
    "            if j in colours:\n",
    "                newcolours2.remove(j)\n",
    "        #print(newcolours2)\n",
    "        for j in newcolours2:\n",
    "            newcolourstmp.append(j)\n",
    "            if j not in colours:\n",
    "                colours.append(j)\n",
    "    newcolours = newcolourstmp\n",
    "    if newcolours == []:\n",
    "        k+=1\n",
    "    #print(newcolours)\n",
    "    #k+=1"
   ]
  },
  {
   "cell_type": "code",
   "execution_count": 120,
   "metadata": {},
   "outputs": [
    {
     "name": "stdout",
     "output_type": "stream",
     "text": [
      "144\n"
     ]
    }
   ],
   "source": [
    "print(len(colours))"
   ]
  },
  {
   "cell_type": "code",
   "execution_count": 249,
   "metadata": {},
   "outputs": [],
   "source": [
    "def find_colour_floor(colour, bag, contains):\n",
    "    contents = contains[bag.index(colour)].split(', ')\n",
    "    numbers = []\n",
    "    colours = []\n",
    "    for i in contents:\n",
    "        if i == 'no other bags.':\n",
    "            numbers.append(0)\n",
    "            colours.append('none')\n",
    "        else:\n",
    "            splitted = i.split()\n",
    "            numbers.append(int(splitted[0]))\n",
    "            colour_tmp = splitted[1] + ' ' + splitted[2]\n",
    "            colours.append(colour_tmp)\n",
    "    for n, j in enumerate(colours):\n",
    "        if j != 'none':\n",
    "            number_tmp, colour_tmp = find_colour_floor(j + ' bags', bag, contains)\n",
    "            numbers[n] = numbers[n]*(sum(number_tmp) + 1)\n",
    "    return numbers, colours"
   ]
  },
  {
   "cell_type": "code",
   "execution_count": 250,
   "metadata": {},
   "outputs": [
    {
     "name": "stdout",
     "output_type": "stream",
     "text": [
      "[5700, 122, 123, 11]\n",
      "['muted orange', 'faded tan', 'faded orange', 'dull brown']\n",
      "5956\n"
     ]
    }
   ],
   "source": [
    "number_of_bags, colour_contains = find_colour_floor('shiny gold bags', bag, contains)\n",
    "print(number_of_bags)\n",
    "print(colour_contains)\n",
    "print(sum(number_of_bags))"
   ]
  }
 ],
 "metadata": {
  "kernelspec": {
   "display_name": "Python 3",
   "language": "python",
   "name": "python3"
  },
  "language_info": {
   "codemirror_mode": {
    "name": "ipython",
    "version": 3
   },
   "file_extension": ".py",
   "mimetype": "text/x-python",
   "name": "python",
   "nbconvert_exporter": "python",
   "pygments_lexer": "ipython3",
   "version": "3.7.1"
  }
 },
 "nbformat": 4,
 "nbformat_minor": 2
}
