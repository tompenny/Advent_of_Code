{
 "cells": [
  {
   "cell_type": "code",
   "execution_count": 55,
   "metadata": {},
   "outputs": [],
   "source": [
    "f = open('data_day8', 'r')\n",
    "data = f.read()\n",
    "\n",
    "dataformat = data.split()\n",
    "\n",
    "instr = []\n",
    "value = []\n",
    "for n in range(int(len(dataformat)/2)):\n",
    "    instr.append(dataformat[2*n])\n",
    "    value.append(dataformat[2*n + 1])"
   ]
  },
  {
   "cell_type": "code",
   "execution_count": 27,
   "metadata": {},
   "outputs": [],
   "source": [
    "n = 0\n",
    "k = 0\n",
    "acc = 0\n",
    "steplist = []\n",
    "while k<1:\n",
    "    instruction = instr[n]\n",
    "    val = value [n]\n",
    "    if instruction == 'nop':\n",
    "        n += 1\n",
    "    elif instruction == 'acc':\n",
    "        n += 1\n",
    "        acc += int(val)\n",
    "    elif instruction == 'jmp':\n",
    "        n += int(val)\n",
    "    if n in steplist:\n",
    "        k +=1\n",
    "    steplist.append(n)"
   ]
  },
  {
   "cell_type": "code",
   "execution_count": 28,
   "metadata": {},
   "outputs": [
    {
     "data": {
      "text/plain": [
       "1684"
      ]
     },
     "execution_count": 28,
     "metadata": {},
     "output_type": "execute_result"
    }
   ],
   "source": [
    "acc"
   ]
  },
  {
   "cell_type": "code",
   "execution_count": 88,
   "metadata": {},
   "outputs": [],
   "source": [
    "def run_program(instr, value):\n",
    "    n = 0\n",
    "    k = 0\n",
    "    acc = 0\n",
    "    steplist = []\n",
    "    end = False\n",
    "    while k<1:\n",
    "        instruction = instr[n]\n",
    "        val = value [n]\n",
    "        if instruction == 'nop':\n",
    "            n += 1\n",
    "        elif instruction == 'acc':\n",
    "            n += 1\n",
    "            acc += int(val)\n",
    "        elif instruction == 'jmp':\n",
    "            n += int(val)\n",
    "        if n in steplist:\n",
    "            k +=1\n",
    "        elif n == len(instr):\n",
    "            end = True\n",
    "            k += 1\n",
    "        elif n >= len(instr):\n",
    "            k +=1\n",
    "        steplist.append(n)\n",
    "        #print(n)\n",
    "    return end, acc"
   ]
  },
  {
   "cell_type": "code",
   "execution_count": 89,
   "metadata": {},
   "outputs": [
    {
     "name": "stdout",
     "output_type": "stream",
     "text": [
      "405 jmp 2188\n"
     ]
    }
   ],
   "source": [
    "for m, i in enumerate(instr):\n",
    "    instrtmp = instr.copy()\n",
    "    ended = False\n",
    "    if i == 'nop':\n",
    "        instrtmp[m] = 'jmp'\n",
    "        #print(in)\n",
    "        ended, acctot = run_program(instrtmp, value)\n",
    "    elif i == 'jmp':\n",
    "        instrtmp[m] = 'nop'\n",
    "        ended, acctot = run_program(instrtmp, value)\n",
    "    if ended == True:\n",
    "        print(m, i, acctot)"
   ]
  }
 ],
 "metadata": {
  "kernelspec": {
   "display_name": "Python 3",
   "language": "python",
   "name": "python3"
  },
  "language_info": {
   "codemirror_mode": {
    "name": "ipython",
    "version": 3
   },
   "file_extension": ".py",
   "mimetype": "text/x-python",
   "name": "python",
   "nbconvert_exporter": "python",
   "pygments_lexer": "ipython3",
   "version": "3.7.1"
  }
 },
 "nbformat": 4,
 "nbformat_minor": 2
}
