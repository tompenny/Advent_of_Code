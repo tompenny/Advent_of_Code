{
 "cells": [
  {
   "cell_type": "code",
   "execution_count": 14,
   "metadata": {},
   "outputs": [
    {
     "data": {
      "text/html": [
       "<div>\n",
       "<style scoped>\n",
       "    .dataframe tbody tr th:only-of-type {\n",
       "        vertical-align: middle;\n",
       "    }\n",
       "\n",
       "    .dataframe tbody tr th {\n",
       "        vertical-align: top;\n",
       "    }\n",
       "\n",
       "    .dataframe thead th {\n",
       "        text-align: right;\n",
       "    }\n",
       "</style>\n",
       "<table border=\"1\" class=\"dataframe\">\n",
       "  <thead>\n",
       "    <tr style=\"text-align: right;\">\n",
       "      <th></th>\n",
       "      <th>data</th>\n",
       "    </tr>\n",
       "  </thead>\n",
       "  <tbody>\n",
       "    <tr>\n",
       "      <th>0</th>\n",
       "      <td>3-7 r: mxvlzcjrsqst</td>\n",
       "    </tr>\n",
       "    <tr>\n",
       "      <th>1</th>\n",
       "      <td>1-3 c: ccpc</td>\n",
       "    </tr>\n",
       "    <tr>\n",
       "      <th>2</th>\n",
       "      <td>6-12 f: mqcccdhxfbrhfpf</td>\n",
       "    </tr>\n",
       "    <tr>\n",
       "      <th>3</th>\n",
       "      <td>14-15 l: llllllllllllldgll</td>\n",
       "    </tr>\n",
       "    <tr>\n",
       "      <th>4</th>\n",
       "      <td>11-16 n: tnsznnfscnwtsdwn</td>\n",
       "    </tr>\n",
       "  </tbody>\n",
       "</table>\n",
       "</div>"
      ],
      "text/plain": [
       "                         data\n",
       "0         3-7 r: mxvlzcjrsqst\n",
       "1                 1-3 c: ccpc\n",
       "2     6-12 f: mqcccdhxfbrhfpf\n",
       "3  14-15 l: llllllllllllldgll\n",
       "4   11-16 n: tnsznnfscnwtsdwn"
      ]
     },
     "execution_count": 14,
     "metadata": {},
     "output_type": "execute_result"
    }
   ],
   "source": [
    "import pandas as pd \n",
    "data = pd.read_csv('C:\\\\Users\\\\Tom\\\\Documents\\\\Advent of Code 2020\\\\data_day2.csv') \n",
    "data.head()"
   ]
  },
  {
   "cell_type": "code",
   "execution_count": 54,
   "metadata": {},
   "outputs": [
    {
     "name": "stdout",
     "output_type": "stream",
     "text": [
      "3-7 r: mxvlzcjrsqst\n"
     ]
    }
   ],
   "source": [
    "lim1list = []\n",
    "lim2list = []\n",
    "letterlist = []\n",
    "passlist = []\n",
    "for j in data['data']\n",
    "    lim1 = '0'\n",
    "    lim2 ='0'\n",
    "    #letter = []\n",
    "    #password_list = []\n",
    "    n = 0\n",
    "    k = 0\n",
    "    for i in j:\n",
    "        if n == 0:\n",
    "            if i != '-':\n",
    "                lim1 = lim1 + i\n",
    "            else:\n",
    "                n = n+1\n",
    "        if n == 1:\n",
    "            if i != ' ':\n",
    "                if i != '-':\n",
    "                    lim2 = lim2 + i\n",
    "            else:\n",
    "                n = n+1\n",
    "        if n == 2:\n",
    "            if i != ' ':\n",
    "                letter = i\n",
    "                n = n+1\n",
    "                password = data['data'][0][k+3:]\n",
    "                break \n",
    "        k = k +1"
   ]
  },
  {
   "cell_type": "code",
   "execution_count": 89,
   "metadata": {},
   "outputs": [],
   "source": [
    "TFtot = 0"
   ]
  },
  {
   "cell_type": "code",
   "execution_count": 147,
   "metadata": {},
   "outputs": [],
   "source": [
    "TFtot = 0\n",
    "for j in data['data']:\n",
    "    lim1 = '0'\n",
    "    lim2 ='0'\n",
    "    n = 0\n",
    "    k = 0\n",
    "    for i in j:\n",
    "        if n == 0:\n",
    "            if i != '-':\n",
    "                lim1 = lim1 + i\n",
    "            else:\n",
    "                n = n+1\n",
    "        if n == 1:\n",
    "            if i != ' ':\n",
    "                if i != '-':\n",
    "                    lim2 = lim2 + i\n",
    "            else:\n",
    "                n = n+1\n",
    "        if n == 2:\n",
    "            if i != ' ':\n",
    "                letter = i\n",
    "                n = n+1\n",
    "                password = j[k+3:]\n",
    "                break \n",
    "        k = k +1\n",
    "    appears = 0\n",
    "    for i in password:\n",
    "        if i == letter:\n",
    "            appears = appears + 1\n",
    "    if appears >= int(lim1):\n",
    "        if appears <= int(lim2):\n",
    "            TF = 1\n",
    "        else:\n",
    "            TF = 0\n",
    "    else:\n",
    "        TF = 0\n",
    "    TFtot = TFtot + TF\n",
    "    "
   ]
  },
  {
   "cell_type": "code",
   "execution_count": 148,
   "metadata": {},
   "outputs": [
    {
     "data": {
      "text/plain": [
       "422"
      ]
     },
     "execution_count": 148,
     "metadata": {},
     "output_type": "execute_result"
    }
   ],
   "source": []
  },
  {
   "cell_type": "code",
   "execution_count": 109,
   "metadata": {},
   "outputs": [
    {
     "data": {
      "text/plain": [
       "'6-12 f: mqcccdhxfbrhfpf'"
      ]
     },
     "execution_count": 109,
     "metadata": {},
     "output_type": "execute_result"
    }
   ],
   "source": [
    "data['data'][2]"
   ]
  },
  {
   "cell_type": "code",
   "execution_count": 169,
   "metadata": {},
   "outputs": [],
   "source": [
    "TFtot = 0\n",
    "for j in data['data']:\n",
    "    lim1 = '0'\n",
    "    lim2 ='0'\n",
    "    n = 0\n",
    "    k = 0\n",
    "    for i in j:\n",
    "        if n == 0:\n",
    "            if i != '-':\n",
    "                lim1 = lim1 + i\n",
    "            else:\n",
    "                n = n+1\n",
    "        if n == 1:\n",
    "            if i != ' ':\n",
    "                if i != '-':\n",
    "                    lim2 = lim2 + i\n",
    "            else:\n",
    "                n = n+1\n",
    "        if n == 2:\n",
    "            if i != ' ':\n",
    "                letter = i\n",
    "                n = n+1\n",
    "                password = j[k+3:]\n",
    "                break \n",
    "        k = k +1\n",
    "    l = 1\n",
    "    appears1 = '1'\n",
    "    appears2 = '1'\n",
    "    for i in password:\n",
    "        if l == int(lim1):\n",
    "            appears1 = i\n",
    "        \n",
    "        if l == int(lim2):\n",
    "            appears2 = i\n",
    "        l = l +1\n",
    "        \n",
    "    if appears1 != letter:\n",
    "        if appears2 != letter:\n",
    "            TF = 0\n",
    "        else:\n",
    "            TF = 1\n",
    "    if appears1 == letter:\n",
    "        if appears2 != letter:\n",
    "            TF = 1\n",
    "        else:\n",
    "            TF = 0\n",
    "    \n",
    "    TFtot = TFtot + TF\n",
    "    "
   ]
  },
  {
   "cell_type": "code",
   "execution_count": 167,
   "metadata": {},
   "outputs": [
    {
     "name": "stdout",
     "output_type": "stream",
     "text": [
      "6\n",
      "7\n",
      "w\n",
      "wwwwwwqww\n",
      "1\n"
     ]
    }
   ],
   "source": [
    "print(int(lim1))\n",
    "print(int(lim2))\n",
    "print(letter)\n",
    "print(password)\n",
    "print(TF)"
   ]
  },
  {
   "cell_type": "code",
   "execution_count": 170,
   "metadata": {},
   "outputs": [
    {
     "data": {
      "text/plain": [
       "451"
      ]
     },
     "execution_count": 170,
     "metadata": {},
     "output_type": "execute_result"
    }
   ],
   "source": [
    "TFtot"
   ]
  },
  {
   "cell_type": "code",
   "execution_count": null,
   "metadata": {},
   "outputs": [],
   "source": []
  }
 ],
 "metadata": {
  "kernelspec": {
   "display_name": "Python 3",
   "language": "python",
   "name": "python3"
  },
  "language_info": {
   "codemirror_mode": {
    "name": "ipython",
    "version": 3
   },
   "file_extension": ".py",
   "mimetype": "text/x-python",
   "name": "python",
   "nbconvert_exporter": "python",
   "pygments_lexer": "ipython3",
   "version": "3.7.1"
  }
 },
 "nbformat": 4,
 "nbformat_minor": 2
}
