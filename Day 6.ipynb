{
 "cells": [
  {
   "cell_type": "code",
   "execution_count": 7,
   "metadata": {},
   "outputs": [],
   "source": [
    "f = open('data_day6', 'r')\n",
    "data = f.read()\n",
    "\n",
    "dataformat = data.split('\\n\\n')"
   ]
  },
  {
   "cell_type": "code",
   "execution_count": 16,
   "metadata": {},
   "outputs": [],
   "source": [
    "def question_count(data):\n",
    "    answered_questions = data[0]\n",
    "    for answers in data[1:]:\n",
    "        for letter in answers:\n",
    "            if letter not in answered_questions:\n",
    "                answered_questions += letter\n",
    "    return len(answered_questions)"
   ]
  },
  {
   "cell_type": "code",
   "execution_count": 21,
   "metadata": {},
   "outputs": [
    {
     "name": "stdout",
     "output_type": "stream",
     "text": [
      "6625\n"
     ]
    }
   ],
   "source": [
    "counted_tot = 0\n",
    "for data in dataformat:\n",
    "    counted = question_count(data.split())\n",
    "    counted_tot += counted\n",
    "print(counted_tot)"
   ]
  },
  {
   "cell_type": "code",
   "execution_count": 26,
   "metadata": {},
   "outputs": [],
   "source": [
    "def question_count2(data):\n",
    "    tot_people = len(data)\n",
    "    answered_questions = data[0]\n",
    "    for answers in data[1:]:\n",
    "        for letter in answers:\n",
    "            if letter not in answered_questions:\n",
    "                answered_questions += letter\n",
    "    question_str = data[0]\n",
    "    for i in data[1:]:\n",
    "        question_str += i\n",
    "    every_question = 0\n",
    "    for question in answered_questions:\n",
    "        question_num = question_str.count(question)\n",
    "        if question_num == tot_people:\n",
    "            every_question += 1\n",
    "    return every_question"
   ]
  },
  {
   "cell_type": "code",
   "execution_count": 28,
   "metadata": {},
   "outputs": [
    {
     "name": "stdout",
     "output_type": "stream",
     "text": [
      "3360\n"
     ]
    }
   ],
   "source": [
    "counted_tot = 0\n",
    "for data in dataformat:\n",
    "    counted = question_count2(data.split())\n",
    "    counted_tot += counted\n",
    "print(counted_tot)"
   ]
  }
 ],
 "metadata": {
  "kernelspec": {
   "display_name": "Python 3",
   "language": "python",
   "name": "python3"
  },
  "language_info": {
   "codemirror_mode": {
    "name": "ipython",
    "version": 3
   },
   "file_extension": ".py",
   "mimetype": "text/x-python",
   "name": "python",
   "nbconvert_exporter": "python",
   "pygments_lexer": "ipython3",
   "version": "3.7.1"
  }
 },
 "nbformat": 4,
 "nbformat_minor": 2
}
