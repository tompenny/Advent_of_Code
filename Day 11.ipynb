{
 "cells": [
  {
   "cell_type": "code",
   "execution_count": 332,
   "metadata": {},
   "outputs": [],
   "source": [
    "import numpy as np\n",
    "\n",
    "f = open('data_day11', 'r')\n",
    "data = f.read()\n",
    "\n",
    "dataformat = data.split()"
   ]
  },
  {
   "cell_type": "code",
   "execution_count": 278,
   "metadata": {},
   "outputs": [],
   "source": [
    "seating = np.zeros((len(dataformat)+2, len(dataformat[0])+2))\n",
    "newseating = np.zeros((len(dataformat)+2, len(dataformat[0])+2))"
   ]
  },
  {
   "cell_type": "code",
   "execution_count": 279,
   "metadata": {},
   "outputs": [],
   "source": [
    "person_matrix = np.array(([1, 1, 1], [1, 0, 1], [1, 1, 1]))"
   ]
  },
  {
   "cell_type": "code",
   "execution_count": 280,
   "metadata": {},
   "outputs": [
    {
     "name": "stdout",
     "output_type": "stream",
     "text": [
      "2238.0\n"
     ]
    }
   ],
   "source": [
    "test = 0\n",
    "while True:\n",
    "    test += 1\n",
    "    for i in range(1, 1+len(dataformat)):\n",
    "        for j in range(1, 1+len(dataformat[0])):\n",
    "            if sum(sum(seating[i-1:i+2, j-1:j+2]*person_matrix)) == 0 and dataformat[i-1][j-1] == 'L' and seating[i, j] == 0:\n",
    "                newseating[i, j] = 1\n",
    "            elif sum(sum(seating[i-1:i+2, j-1:j+2]*person_matrix)) > 3 and dataformat[i-1][j-1] == 'L' and seating[i, j] == 1:\n",
    "                newseating[i, j] = 0\n",
    "                #print(i, j)\n",
    "    Trutharray = seating == newseating\n",
    "   # print(test)\n",
    "    if Trutharray.all():\n",
    "        break\n",
    "    else:\n",
    "        seating = newseating.copy()\n",
    "print(sum(sum(seating)))"
   ]
  },
  {
   "cell_type": "code",
   "execution_count": 333,
   "metadata": {},
   "outputs": [],
   "source": [
    "seating = np.zeros((len(dataformat)+2, len(dataformat[0])+2))\n",
    "newseating = np.zeros((len(dataformat)+2, len(dataformat[0])+2))"
   ]
  },
  {
   "cell_type": "code",
   "execution_count": 334,
   "metadata": {},
   "outputs": [],
   "source": [
    "seats = np.zeros((len(dataformat)+2, len(dataformat[0])+2))\n",
    "for i in range(1, 1+ len(dataformat)):\n",
    "    for j in range(1, 1+ len(dataformat[0])):\n",
    "        if dataformat[i-1][j-1] == '.':\n",
    "            seats[i, j] = 1"
   ]
  },
  {
   "cell_type": "code",
   "execution_count": 335,
   "metadata": {},
   "outputs": [],
   "source": [
    "def check_seat(seating, seats, n, m, k, l):\n",
    "    #print(n, m)\n",
    "    #print(seats[n, m])\n",
    "    if k == 0 and l == 0:\n",
    "        vis_seat = seating[n, m]\n",
    "    elif seats[n, m] == 1:\n",
    "        vis_seat = check_seat(seating, seats, n+k, m+l, k, l)\n",
    "    else:\n",
    "        vis_seat = seating[n, m]\n",
    "    return vis_seat"
   ]
  },
  {
   "cell_type": "code",
   "execution_count": 336,
   "metadata": {},
   "outputs": [
    {
     "name": "stdout",
     "output_type": "stream",
     "text": [
      "2013.0\n"
     ]
    }
   ],
   "source": [
    "while True:\n",
    "    for i in range(1, 1+len(dataformat)):\n",
    "        for j in range(1, 1+len(dataformat[0])):\n",
    "            vis_seat_ind = np.zeros((3, 3))\n",
    "            for k in range(-1, 2):\n",
    "                for l in range(-1, 2):\n",
    "                    vis_seat_ind[k+1, l+1] = check_seat(seating, seats, i + k, j + l, k, l)\n",
    "            if sum(sum(vis_seat_ind*person_matrix)) == 0 and dataformat[i-1][j-1] == 'L' and seating[i, j] == 0:\n",
    "                    #print(1, i, j)\n",
    "\n",
    "                newseating[i, j] = 1\n",
    "            elif sum(sum(vis_seat_ind*person_matrix)) > 4 and dataformat[i-1][j-1] == 'L' and seating[i, j] == 1:\n",
    "                    #print(0, i, j)\n",
    "                newseating[i, j] = 0\n",
    "    Trutharray = seating == newseating\n",
    "   # print(test)\n",
    "    if Trutharray.all():\n",
    "        break\n",
    "    else:\n",
    "        seating = newseating.copy()\n",
    "            #if i == 1 and j ==4:\n",
    "            #    print(sum(sum(seating[i-1:i+2, j-1:j+2]*person_matrix)))\n",
    "            #    print(dataformat[i-1][j-1])\n",
    "            #    print(seating[i, j])\n",
    "                #print(i, j)\n",
    "print(sum(sum(seating)))"
   ]
  },
  {
   "cell_type": "code",
   "execution_count": null,
   "metadata": {},
   "outputs": [],
   "source": [
    "testdataformat =['L.LL.LL.LL',\n",
    "'LLLLLLL.LL',\n",
    "'L.L.L..L..',\n",
    "'LLLL.LL.LL',\n",
    "'L.LL.LL.LL',\n",
    "'L.LLLLL.LL',\n",
    "'..L.L.....',\n",
    "'LLLLLLLLLL',\n",
    "'L.LLLLLL.L',\n",
    "'L.LLLLL.LL',]"
   ]
  }
 ],
 "metadata": {
  "kernelspec": {
   "display_name": "Python 3",
   "language": "python",
   "name": "python3"
  },
  "language_info": {
   "codemirror_mode": {
    "name": "ipython",
    "version": 3
   },
   "file_extension": ".py",
   "mimetype": "text/x-python",
   "name": "python",
   "nbconvert_exporter": "python",
   "pygments_lexer": "ipython3",
   "version": "3.7.1"
  }
 },
 "nbformat": 4,
 "nbformat_minor": 2
}
