{
 "cells": [
  {
   "cell_type": "code",
   "execution_count": 58,
   "metadata": {},
   "outputs": [],
   "source": [
    "import numpy as np\n",
    "\n",
    "f = open('data_day10', 'r')\n",
    "data = f.read()\n",
    "\n",
    "dataformat = data.split()\n",
    "\n",
    "def make_int(a):\n",
    "    return int(a)\n",
    "\n",
    "dataformat = list(map(make_int, dataformat))\n",
    "dataformat = np.array(sorted(dataformat))"
   ]
  },
  {
   "cell_type": "code",
   "execution_count": 59,
   "metadata": {},
   "outputs": [],
   "source": [
    "diff = list(np.concatenate((dataformat, np.array([dataformat[-1] + 3]))) - np.concatenate((np.zeros(1), dataformat)))"
   ]
  },
  {
   "cell_type": "code",
   "execution_count": 60,
   "metadata": {},
   "outputs": [
    {
     "name": "stdout",
     "output_type": "stream",
     "text": [
      "66\n",
      "32\n",
      "2112\n"
     ]
    }
   ],
   "source": [
    "print(diff.count(1))\n",
    "print(diff.count(3))\n",
    "\n",
    "print(diff.count(3)*diff.count(1))"
   ]
  },
  {
   "cell_type": "code",
   "execution_count": 61,
   "metadata": {},
   "outputs": [],
   "source": [
    "def split_list(alist, a):\n",
    "    listlist = []\n",
    "    listtmp = []\n",
    "    for i in alist:\n",
    "        if i != a:\n",
    "            listtmp.append(i)\n",
    "        if i == a:\n",
    "            listlist.append(listtmp)\n",
    "            listtmp = []\n",
    "    listlist.append(listtmp)\n",
    "    return listlist"
   ]
  },
  {
   "cell_type": "code",
   "execution_count": 62,
   "metadata": {},
   "outputs": [],
   "source": [
    "diff_split = split_list(diff, 3.0)"
   ]
  },
  {
   "cell_type": "code",
   "execution_count": 65,
   "metadata": {},
   "outputs": [],
   "source": [
    "tot = 1\n",
    "for i in diff_split:\n",
    "    num = len(i)\n",
    "    if num == 1:\n",
    "        tot = tot*1\n",
    "    if num == 2:\n",
    "        tot = tot*2\n",
    "    if num == 3:\n",
    "        tot = tot*4\n",
    "    if num == 4:\n",
    "        tot = tot*7"
   ]
  },
  {
   "cell_type": "code",
   "execution_count": 66,
   "metadata": {},
   "outputs": [
    {
     "data": {
      "text/plain": [
       "3022415986688"
      ]
     },
     "execution_count": 66,
     "metadata": {},
     "output_type": "execute_result"
    }
   ],
   "source": [
    "tot"
   ]
  }
 ],
 "metadata": {
  "kernelspec": {
   "display_name": "Python 3",
   "language": "python",
   "name": "python3"
  },
  "language_info": {
   "codemirror_mode": {
    "name": "ipython",
    "version": 3
   },
   "file_extension": ".py",
   "mimetype": "text/x-python",
   "name": "python",
   "nbconvert_exporter": "python",
   "pygments_lexer": "ipython3",
   "version": "3.7.1"
  }
 },
 "nbformat": 4,
 "nbformat_minor": 2
}
