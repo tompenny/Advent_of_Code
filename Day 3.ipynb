{
 "cells": [
  {
   "cell_type": "code",
   "execution_count": 5,
   "metadata": {},
   "outputs": [
    {
     "data": {
      "text/html": [
       "<div>\n",
       "<style scoped>\n",
       "    .dataframe tbody tr th:only-of-type {\n",
       "        vertical-align: middle;\n",
       "    }\n",
       "\n",
       "    .dataframe tbody tr th {\n",
       "        vertical-align: top;\n",
       "    }\n",
       "\n",
       "    .dataframe thead th {\n",
       "        text-align: right;\n",
       "    }\n",
       "</style>\n",
       "<table border=\"1\" class=\"dataframe\">\n",
       "  <thead>\n",
       "    <tr style=\"text-align: right;\">\n",
       "      <th></th>\n",
       "      <th>data</th>\n",
       "    </tr>\n",
       "  </thead>\n",
       "  <tbody>\n",
       "    <tr>\n",
       "      <th>0</th>\n",
       "      <td>........#.............#........</td>\n",
       "    </tr>\n",
       "    <tr>\n",
       "      <th>1</th>\n",
       "      <td>...#....#...#....#.............</td>\n",
       "    </tr>\n",
       "    <tr>\n",
       "      <th>2</th>\n",
       "      <td>.#..#...#............#.....#..#</td>\n",
       "    </tr>\n",
       "    <tr>\n",
       "      <th>3</th>\n",
       "      <td>..#......#..##............###..</td>\n",
       "    </tr>\n",
       "    <tr>\n",
       "      <th>4</th>\n",
       "      <td>..........#......#..#..#.......</td>\n",
       "    </tr>\n",
       "  </tbody>\n",
       "</table>\n",
       "</div>"
      ],
      "text/plain": [
       "                              data\n",
       "0  ........#.............#........\n",
       "1  ...#....#...#....#.............\n",
       "2  .#..#...#............#.....#..#\n",
       "3  ..#......#..##............###..\n",
       "4  ..........#......#..#..#......."
      ]
     },
     "execution_count": 5,
     "metadata": {},
     "output_type": "execute_result"
    }
   ],
   "source": [
    "import pandas as pd \n",
    "data = pd.read_csv('C:\\\\Users\\\\Tom\\\\Documents\\\\Advent of Code 2020\\\\data_day3.csv') \n",
    "data.head()"
   ]
  },
  {
   "cell_type": "code",
   "execution_count": 13,
   "metadata": {},
   "outputs": [],
   "source": [
    "for j in range(len(data['data'])):\n",
    "    newlist = []\n",
    "    for i in data['data'][j]:\n",
    "        newlist.append(i)\n",
    "    data['data'][j] = newlist"
   ]
  },
  {
   "cell_type": "code",
   "execution_count": 38,
   "metadata": {},
   "outputs": [],
   "source": [
    "treemult = 1\n",
    "acrosslist = [1, 3, 5, 7, 1]\n",
    "downlist = [1, 1, 1, 1, 2]\n",
    "for i in range(len(downlist)):\n",
    "    across = acrosslist[i]\n",
    "    down = downlist[i]\n",
    "    k = [0, 0]\n",
    "    trees = 0\n",
    "    while k[1] < len(data['data'])-1:\n",
    "        k[0] += across\n",
    "        k[1] += down\n",
    "        #print(k)\n",
    "        if k[0] > len(data['data'][0])-1:\n",
    "            k[0] = k[0] - len(data['data'][0])\n",
    "            #print(k)\n",
    "        if data['data'][k[1]][k[0]] == '#':\n",
    "            trees += 1\n",
    "            #print('tree')\n",
    "    treemult = treemult*trees"
   ]
  },
  {
   "cell_type": "code",
   "execution_count": 39,
   "metadata": {},
   "outputs": [
    {
     "data": {
      "text/plain": [
       "727923200"
      ]
     },
     "execution_count": 39,
     "metadata": {},
     "output_type": "execute_result"
    }
   ],
   "source": [
    "treemult"
   ]
  },
  {
   "cell_type": "code",
   "execution_count": 28,
   "metadata": {},
   "outputs": [
    {
     "data": {
      "text/plain": [
       "[9, 323]"
      ]
     },
     "execution_count": 28,
     "metadata": {},
     "output_type": "execute_result"
    }
   ],
   "source": [
    "k"
   ]
  },
  {
   "cell_type": "code",
   "execution_count": 31,
   "metadata": {},
   "outputs": [
    {
     "data": {
      "text/plain": [
       "0    [., ., ., ., ., ., ., ., #, ., ., ., ., ., ., ...\n",
       "1    [., ., ., #, ., ., ., ., #, ., ., ., #, ., ., ...\n",
       "2    [., #, ., ., #, ., ., ., #, ., ., ., ., ., ., ...\n",
       "3    [., ., #, ., ., ., ., ., ., #, ., ., #, #, ., ...\n",
       "4    [., ., ., ., ., ., ., ., ., ., #, ., ., ., ., ...\n",
       "5    [., #, ., ., #, ., ., ., ., ., ., ., #, ., ., ...\n",
       "6    [., ., ., ., ., ., ., ., ., #, ., ., #, ., ., ...\n",
       "7    [., ., #, ., ., ., ., #, #, ., ., ., #, ., ., ...\n",
       "8    [#, #, ., ., ., ., ., ., ., ., ., ., #, ., #, ...\n",
       "9    [., ., ., #, ., ., ., ., #, ., ., ., #, ., ., ...\n",
       "Name: data, dtype: object"
      ]
     },
     "execution_count": 31,
     "metadata": {},
     "output_type": "execute_result"
    }
   ],
   "source": [
    "data['data'][0:10]"
   ]
  },
  {
   "cell_type": "code",
   "execution_count": null,
   "metadata": {},
   "outputs": [],
   "source": []
  }
 ],
 "metadata": {
  "kernelspec": {
   "display_name": "Python 3",
   "language": "python",
   "name": "python3"
  },
  "language_info": {
   "codemirror_mode": {
    "name": "ipython",
    "version": 3
   },
   "file_extension": ".py",
   "mimetype": "text/x-python",
   "name": "python",
   "nbconvert_exporter": "python",
   "pygments_lexer": "ipython3",
   "version": "3.7.1"
  }
 },
 "nbformat": 4,
 "nbformat_minor": 2
}
