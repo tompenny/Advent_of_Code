{
 "cells": [
  {
   "cell_type": "code",
   "execution_count": 1,
   "metadata": {},
   "outputs": [],
   "source": [
    "import pandas as pd \n",
    "data = pd.read_csv('C:\\\\Users\\\\Tom\\\\Documents\\\\Advent of Code 2020\\\\data_day3.csv') "
   ]
  },
  {
   "cell_type": "code",
   "execution_count": 2,
   "metadata": {},
   "outputs": [],
   "source": [
    "for j in range(len(data['data'])):\n",
    "    newlist = []\n",
    "    for i in data['data'][j]:\n",
    "        newlist.append(i)\n",
    "    data['data'][j] = newlist"
   ]
  },
  {
   "cell_type": "code",
   "execution_count": 3,
   "metadata": {},
   "outputs": [
    {
     "name": "stdout",
     "output_type": "stream",
     "text": [
      "727923200\n"
     ]
    }
   ],
   "source": [
    "treemult = 1\n",
    "acrosslist = [1, 3, 5, 7, 1]\n",
    "downlist = [1, 1, 1, 1, 2]\n",
    "for i in range(len(downlist)):\n",
    "    across = acrosslist[i]\n",
    "    down = downlist[i]\n",
    "    k = [0, 0]\n",
    "    trees = 0\n",
    "    while k[1] < len(data['data'])-1:\n",
    "        k[0] += across\n",
    "        k[1] += down\n",
    "        #print(k)\n",
    "        if k[0] > len(data['data'][0])-1:\n",
    "            k[0] = k[0] - len(data['data'][0])\n",
    "            #print(k)\n",
    "        if data['data'][k[1]][k[0]] == '#':\n",
    "            trees += 1\n",
    "            #print('tree')\n",
    "    treemult = treemult*trees\n",
    "print(treemult)"
   ]
  }
 ],
 "metadata": {
  "kernelspec": {
   "display_name": "Python 3",
   "language": "python",
   "name": "python3"
  },
  "language_info": {
   "codemirror_mode": {
    "name": "ipython",
    "version": 3
   },
   "file_extension": ".py",
   "mimetype": "text/x-python",
   "name": "python",
   "nbconvert_exporter": "python",
   "pygments_lexer": "ipython3",
   "version": "3.7.1"
  }
 },
 "nbformat": 4,
 "nbformat_minor": 2
}
