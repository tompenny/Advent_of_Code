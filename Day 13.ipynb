{
 "cells": [
  {
   "cell_type": "code",
   "execution_count": 5,
   "metadata": {},
   "outputs": [],
   "source": [
    "import numpy as np\n",
    "import cmath\n",
    "\n",
    "f = open('data_day13', 'r')\n",
    "data = f.read()\n",
    "\n",
    "dataformat = data.split()"
   ]
  },
  {
   "cell_type": "code",
   "execution_count": 6,
   "metadata": {},
   "outputs": [],
   "source": [
    "earliest = int(dataformat[0])\n",
    "buses = dataformat[1].split(',')\n",
    "buses_inservice = [int(i) for i in buses if i != 'x']"
   ]
  },
  {
   "cell_type": "code",
   "execution_count": 4,
   "metadata": {},
   "outputs": [],
   "source": [
    "after_earliest = np.zeros(len(buses_inservice))\n",
    "for n, i in enumerate(buses_inservice):\n",
    "    j = 2\n",
    "    k = 0\n",
    "    while k<1:\n",
    "        time = i*j\n",
    "        if time > earliest:\n",
    "            after_earliest[n] = time\n",
    "            k = 1\n",
    "        j += 1"
   ]
  },
  {
   "cell_type": "code",
   "execution_count": 5,
   "metadata": {},
   "outputs": [
    {
     "data": {
      "text/plain": [
       "5257.0"
      ]
     },
     "execution_count": 5,
     "metadata": {},
     "output_type": "execute_result"
    }
   ],
   "source": [
    "np.min(after_earliest - earliest)*buses_inservice[np.argmin(after_earliest - earliest)]"
   ]
  },
  {
   "cell_type": "code",
   "execution_count": 8,
   "metadata": {},
   "outputs": [],
   "source": [
    "indexs = np.zeros(len(buses_inservice))\n",
    "for n, i in enumerate(buses_inservice):\n",
    "    t = buses.index(str(i))\n",
    "    indexs[n] = t"
   ]
  },
  {
   "cell_type": "code",
   "execution_count": 4,
   "metadata": {},
   "outputs": [],
   "source": [
    "from numba import jit, njit\n",
    "\n",
    "@njit\n",
    "def run(indexs, buses_inservice, beg, jump):\n",
    "    j = beg\n",
    "    while True:\n",
    "        nums = (j + indexs)/np.array(buses_inservice)\n",
    "        nums_div = np.mod(nums, 1.0)\n",
    "        nums_True = nums_div == 0\n",
    "        #print(nums)\n",
    "        #print(nums_True)\n",
    "        if np.all(nums_True):\n",
    "            #print(j)\n",
    "            break\n",
    "        j += jump\n",
    "    return j"
   ]
  },
  {
   "cell_type": "code",
   "execution_count": 93,
   "metadata": {},
   "outputs": [
    {
     "name": "stdout",
     "output_type": "stream",
     "text": [
      "538703333547789\n"
     ]
    }
   ],
   "source": [
    "etime = 0\n",
    "jump = 1\n",
    "for i in range(2, len(buses_inservice)+1):\n",
    "    etime = run(indexs[0:i], buses_inservice[0:i], etime, jump)\n",
    "    jump = jump*buses_inservice[i-1]\n",
    "print(etime)"
   ]
  }
 ],
 "metadata": {
  "kernelspec": {
   "display_name": "Python 3",
   "language": "python",
   "name": "python3"
  },
  "language_info": {
   "codemirror_mode": {
    "name": "ipython",
    "version": 3
   },
   "file_extension": ".py",
   "mimetype": "text/x-python",
   "name": "python",
   "nbconvert_exporter": "python",
   "pygments_lexer": "ipython3",
   "version": "3.7.1"
  }
 },
 "nbformat": 4,
 "nbformat_minor": 2
}
