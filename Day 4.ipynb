{
 "cells": [
  {
   "cell_type": "code",
   "execution_count": 1,
   "metadata": {},
   "outputs": [],
   "source": [
    "f = open('data_day4', 'r')\n",
    "data = f.read()"
   ]
  },
  {
   "cell_type": "code",
   "execution_count": 2,
   "metadata": {},
   "outputs": [],
   "source": [
    "dataformat = data.split('\\n\\n')"
   ]
  },
  {
   "cell_type": "code",
   "execution_count": 3,
   "metadata": {
    "scrolled": true
   },
   "outputs": [
    {
     "name": "stdout",
     "output_type": "stream",
     "text": [
      "188\n"
     ]
    }
   ],
   "source": [
    "valid = 0\n",
    "ecllist = ['amb', 'blu', 'brn', 'gry', 'grn', 'hzl', 'oth']\n",
    "counter = 0\n",
    "for i in dataformat:\n",
    "    secval = 0\n",
    "    #print(counter)\n",
    "    j = i.split(':')\n",
    "    indval = 0\n",
    "    if len(j[:-1]) == 8:\n",
    "        indval = 1\n",
    "        #valid += 1\n",
    "    elif len(j[:-1]) == 7:\n",
    "        cidcheck = 0\n",
    "        for k in j[:-1]:\n",
    "            if k[-3:] != 'cid':\n",
    "                cidcheck += 1\n",
    "        if cidcheck == 7:\n",
    "            indval = 1\n",
    "            #valid += 1\n",
    "    if indval == 1:\n",
    "        \n",
    "        for j in i.split():\n",
    "            \n",
    "            if j[:3] == 'byr':\n",
    "                try:\n",
    "                    int(j[4:])\n",
    "                    if len(j[4:]) == 4:\n",
    "                        if int(j[4:]) >= 1920 and int(j[4:]) <=2002:\n",
    "                            secval += 1\n",
    "                except ValueError:\n",
    "                    'error'\n",
    "            if j[:3] == 'iyr':\n",
    "                try:\n",
    "                    int(j[4:])\n",
    "                    if len(j[4:]) == 4:\n",
    "                        if int(j[4:]) >= 2010 and int(j[4:]) <=2020:\n",
    "                            secval += 1\n",
    "                except ValueError:\n",
    "                    'error'\n",
    "            if j[:3] == 'eyr':\n",
    "                try:\n",
    "                    int(j[4:])\n",
    "                    if len(j[4:]) == 4:\n",
    "                        if int(j[4:]) >= 2020 and int(j[4:]) <=2030:\n",
    "                            secval += 1\n",
    "                except ValueError:\n",
    "                    'error'\n",
    "            if j[:3] == 'pid':\n",
    "                try:\n",
    "                    int(j[4:])\n",
    "                    if len(j[4:]) == 9:\n",
    "                        secval += 1\n",
    "                except ValueError:\n",
    "                    'error'\n",
    "            if j[:3] == 'hgt':\n",
    "                if j[-2:] == 'cm':\n",
    "                    try:\n",
    "                        int(j[4:-2])\n",
    "                        if int(j[4:-2]) >= 150 and int(j[4:-2]) <= 193:\n",
    "                            secval += 1\n",
    "                    except ValueError:\n",
    "                        'error'\n",
    "                if j[-2:] == 'in':\n",
    "                    try:\n",
    "                        int(j[4:-2])\n",
    "                        if int(j[4:-2]) >= 59 and int(j[4:-2]) <= 76:\n",
    "                            secval += 1\n",
    "                    except ValueError:\n",
    "                        'error'\n",
    "            if j[:3] == 'hcl':\n",
    "                if j[4] == '#':\n",
    "                    if len(j[5:]) == 6:\n",
    "                        secval+=1\n",
    "            if j[:3] == 'ecl':\n",
    "                if j[4:] in ecllist:\n",
    "                    secval += 1\n",
    "    #print(secval)\n",
    "    if secval == 7:\n",
    "        #print(i)\n",
    "        #print('\\n')\n",
    "        valid+=1\n",
    "    counter +=  1\n",
    "\n",
    "print(valid)"
   ]
  },
  {
   "cell_type": "code",
   "execution_count": null,
   "metadata": {},
   "outputs": [],
   "source": []
  }
 ],
 "metadata": {
  "kernelspec": {
   "display_name": "Python 3",
   "language": "python",
   "name": "python3"
  },
  "language_info": {
   "codemirror_mode": {
    "name": "ipython",
    "version": 3
   },
   "file_extension": ".py",
   "mimetype": "text/x-python",
   "name": "python",
   "nbconvert_exporter": "python",
   "pygments_lexer": "ipython3",
   "version": "3.7.1"
  }
 },
 "nbformat": 4,
 "nbformat_minor": 2
}
