{
 "cells": [
  {
   "cell_type": "code",
   "execution_count": 18,
   "metadata": {},
   "outputs": [],
   "source": [
    "import numpy as np\n",
    "\n",
    "f = open('data_day9', 'r')\n",
    "data = f.read()\n",
    "\n",
    "dataformat = data.split()\n",
    "\n",
    "def make_int(a):\n",
    "    return int(a)\n",
    "\n",
    "dataformat = np.array(list(map(make_int, dataformat)))"
   ]
  },
  {
   "cell_type": "code",
   "execution_count": 56,
   "metadata": {},
   "outputs": [
    {
     "name": "stdout",
     "output_type": "stream",
     "text": [
      "22477624\n",
      "503\n"
     ]
    }
   ],
   "source": [
    "j = 0\n",
    "k = 0\n",
    "while k < 1:\n",
    "    datatmp = dataformat[j:j+25]\n",
    "    l = 0\n",
    "    for i in range(int((len(datatmp)+1)/2)):\n",
    "        #print(i)\n",
    "        sumdata = datatmp + np.concatenate((datatmp[-(i+1):], datatmp[0:25][:-(i+1)]))\n",
    "        if dataformat[j+25] not in sumdata:\n",
    "            l += 1\n",
    "        if l == 13:\n",
    "            print(dataformat[j+25])\n",
    "            k = 1\n",
    "            print(j)\n",
    "    j+=1"
   ]
  },
  {
   "cell_type": "code",
   "execution_count": 65,
   "metadata": {},
   "outputs": [
    {
     "name": "stdout",
     "output_type": "stream",
     "text": [
      "2980044\n",
      "416\n",
      "17\n"
     ]
    }
   ],
   "source": [
    "for m in range(2, len(dataformat)):\n",
    "    for j in range(0, len(dataformat) - m):\n",
    "        datatmp = dataformat[j:j+m]\n",
    "        if sum(datatmp) == 22477624:\n",
    "            print(np.min(datatmp) + np.max(datatmp))\n",
    "            print(j)\n",
    "            print(m)\n",
    "            break\n",
    "    if sum(datatmp) == 22477624:\n",
    "            break"
   ]
  }
 ],
 "metadata": {
  "kernelspec": {
   "display_name": "Python 3",
   "language": "python",
   "name": "python3"
  },
  "language_info": {
   "codemirror_mode": {
    "name": "ipython",
    "version": 3
   },
   "file_extension": ".py",
   "mimetype": "text/x-python",
   "name": "python",
   "nbconvert_exporter": "python",
   "pygments_lexer": "ipython3",
   "version": "3.7.1"
  }
 },
 "nbformat": 4,
 "nbformat_minor": 2
}
