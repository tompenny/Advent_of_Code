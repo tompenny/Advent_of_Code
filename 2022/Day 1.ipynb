{
 "cells": [
  {
   "cell_type": "code",
   "execution_count": 29,
   "metadata": {},
   "outputs": [],
   "source": [
    "import numpy as np"
   ]
  },
  {
   "cell_type": "code",
   "execution_count": 30,
   "metadata": {},
   "outputs": [],
   "source": [
    "f = open('Day1input.txt', 'r')\n",
    "data = f.read()"
   ]
  },
  {
   "cell_type": "markdown",
   "metadata": {},
   "source": [
    "# Part 1"
   ]
  },
  {
   "cell_type": "code",
   "execution_count": 34,
   "metadata": {},
   "outputs": [
    {
     "name": "stdout",
     "output_type": "stream",
     "text": [
      "74198\n"
     ]
    }
   ],
   "source": [
    "maxcal = np.max([sum([int(j) for j in i.split('\\n')]) for i in data.split('\\n\\n')])\n",
    "print(maxcal)"
   ]
  },
  {
   "cell_type": "markdown",
   "metadata": {},
   "source": [
    "# Part 2"
   ]
  },
  {
   "cell_type": "code",
   "execution_count": 39,
   "metadata": {},
   "outputs": [
    {
     "name": "stdout",
     "output_type": "stream",
     "text": [
      "209914\n"
     ]
    }
   ],
   "source": [
    "calorie_list = [sum([int(j) for j in i.split('\\n')]) for i in data.split('\\n\\n')]\n",
    "tot_cal = 0\n",
    "for i in range(3):\n",
    "    tot_cal += np.max(calorie_list)\n",
    "    argmaxcal = np.argmax(calorie_list)\n",
    "    del calorie_list[argmaxcal]\n",
    "print(tot_cal)"
   ]
  }
 ],
 "metadata": {
  "kernelspec": {
   "display_name": "Python 3",
   "language": "python",
   "name": "python3"
  },
  "language_info": {
   "codemirror_mode": {
    "name": "ipython",
    "version": 3
   },
   "file_extension": ".py",
   "mimetype": "text/x-python",
   "name": "python",
   "nbconvert_exporter": "python",
   "pygments_lexer": "ipython3",
   "version": "3.7.1"
  }
 },
 "nbformat": 4,
 "nbformat_minor": 2
}
