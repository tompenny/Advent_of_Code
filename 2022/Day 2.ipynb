{
 "cells": [
  {
   "cell_type": "code",
   "execution_count": 1,
   "metadata": {},
   "outputs": [],
   "source": [
    "import numpy as np"
   ]
  },
  {
   "cell_type": "code",
   "execution_count": 122,
   "metadata": {},
   "outputs": [],
   "source": [
    "f = open('Day2input.txt', 'r')\n",
    "data = f.read()"
   ]
  },
  {
   "cell_type": "markdown",
   "metadata": {},
   "source": [
    "# Part 1"
   ]
  },
  {
   "cell_type": "code",
   "execution_count": 123,
   "metadata": {},
   "outputs": [
    {
     "name": "stdout",
     "output_type": "stream",
     "text": [
      "8933\n"
     ]
    }
   ],
   "source": [
    "dataformat = [i.split(' ') for i in data.split('\\n')]\n",
    "\n",
    "opponent = np.transpose(dataformat)[0]\n",
    "player = np.transpose(dataformat)[1]\n",
    "\n",
    "rockscore = list(player).count('X')\n",
    "paperscore = list(player).count('Y')\n",
    "scissorscore = list(player).count('Z')\n",
    "\n",
    "opponent = list(map(lambda x: x.replace('A', '1'), opponent))\n",
    "opponent = list(map(lambda x: x.replace('B', '2'), opponent))\n",
    "opponent = list(map(lambda x: x.replace('C', '3'), opponent))\n",
    "opponent = [int(i) for i in opponent]\n",
    "\n",
    "player = list(map(lambda x: x.replace('X', '1'), player))\n",
    "player = list(map(lambda x: x.replace('Y', '2'), player))\n",
    "player = list(map(lambda x: x.replace('Z', '3'), player))\n",
    "player = [int(i) for i in player]\n",
    "\n",
    "fight = list(np.array(player) - np.array(opponent))\n",
    "\n",
    "draw = fight.count(0)\n",
    "loss = fight.count(-1) + fight.count(2)\n",
    "win = len(fight) - draw - loss\n",
    "\n",
    "tot = rockscore + 2*paperscore + 3*scissorscore + 3*draw + 6*win\n",
    "print(tot)"
   ]
  },
  {
   "cell_type": "markdown",
   "metadata": {},
   "source": [
    "# Part 2"
   ]
  },
  {
   "cell_type": "code",
   "execution_count": 136,
   "metadata": {},
   "outputs": [
    {
     "name": "stdout",
     "output_type": "stream",
     "text": [
      "11998\n"
     ]
    }
   ],
   "source": [
    "dataformat = [i.split(' ') for i in data.split('\\n')]\n",
    "\n",
    "opponent = np.transpose(dataformat)[0]\n",
    "player = np.transpose(dataformat)[1]\n",
    "\n",
    "loss = list(player).count('X')\n",
    "draw = list(player).count('Y')\n",
    "win = list(player).count('Z')\n",
    "\n",
    "opponent = list(map(lambda x: x.replace('A', '1'), opponent))\n",
    "opponent = list(map(lambda x: x.replace('B', '2'), opponent))\n",
    "opponent = list(map(lambda x: x.replace('C', '3'), opponent))\n",
    "opponent = [int(i) for i in opponent]\n",
    "\n",
    "player = list(map(lambda x: x.replace('X', '1'), player))\n",
    "player = list(map(lambda x: x.replace('Y', '0'), player))\n",
    "player = list(map(lambda x: x.replace('Z', '-1'), player))\n",
    "player = [int(i) for i in player]\n",
    "\n",
    "fight = list(np.array(opponent) - np.array(player))\n",
    "fight = [i%3 for i in fight]\n",
    "\n",
    "rockscore = fight.count(1)\n",
    "paperscore = fight.count(2)\n",
    "scissorscore = len(fight) - rockscore - paperscore\n",
    "\n",
    "tot = rockscore + 2*paperscore + 3*scissorscore + 3*draw + 6*win\n",
    "print(tot)"
   ]
  }
 ],
 "metadata": {
  "kernelspec": {
   "display_name": "Python 3",
   "language": "python",
   "name": "python3"
  },
  "language_info": {
   "codemirror_mode": {
    "name": "ipython",
    "version": 3
   },
   "file_extension": ".py",
   "mimetype": "text/x-python",
   "name": "python",
   "nbconvert_exporter": "python",
   "pygments_lexer": "ipython3",
   "version": "3.7.1"
  }
 },
 "nbformat": 4,
 "nbformat_minor": 2
}
