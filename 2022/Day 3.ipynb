{
 "cells": [
  {
   "cell_type": "code",
   "execution_count": 90,
   "metadata": {},
   "outputs": [],
   "source": [
    "import numpy as np"
   ]
  },
  {
   "cell_type": "code",
   "execution_count": 91,
   "metadata": {},
   "outputs": [],
   "source": [
    "f = open('Day3input.txt', 'r')\n",
    "data = f.read()"
   ]
  },
  {
   "cell_type": "markdown",
   "metadata": {},
   "source": [
    "# Part 1"
   ]
  },
  {
   "cell_type": "code",
   "execution_count": 92,
   "metadata": {},
   "outputs": [
    {
     "name": "stdout",
     "output_type": "stream",
     "text": [
      "7597\n"
     ]
    }
   ],
   "source": [
    "dataformat = data.split('\\n')\n",
    "samelist = []\n",
    "for i in dataformat:\n",
    "    compartment1 = i[:int(len(i)/2)]\n",
    "    compartment2 = i[int(len(i)/2):]\n",
    "    for j in compartment1:\n",
    "        same = compartment2.count(j)\n",
    "        if same > 0:\n",
    "            value = ord(j)-38\n",
    "            if value > 52:\n",
    "                value -= 58\n",
    "            samelist.append(value)\n",
    "            break\n",
    "print(sum(samelist))"
   ]
  },
  {
   "cell_type": "markdown",
   "metadata": {},
   "source": [
    "# Part 2"
   ]
  },
  {
   "cell_type": "code",
   "execution_count": 93,
   "metadata": {},
   "outputs": [
    {
     "name": "stdout",
     "output_type": "stream",
     "text": [
      "2607\n"
     ]
    }
   ],
   "source": [
    "dataformat = data.split('\\n')\n",
    "samelist = []\n",
    "for i in range(int(len(dataformat)/3)):\n",
    "    l1 = dataformat[3*i]\n",
    "    l2 = dataformat[3*i+1]\n",
    "    l3 = dataformat[3*i+2]\n",
    "    same = ''.join([x for x in l1 + l2 if x in l1 and x in l2])\n",
    "    same2 = [x for x in same + l3 if x in same and x in l3]\n",
    "    value = ord(same2[0])-38\n",
    "    if value > 52:\n",
    "        value -= 58\n",
    "    samelist.append(value)\n",
    "print(sum(samelist))"
   ]
  }
 ],
 "metadata": {
  "kernelspec": {
   "display_name": "Python 3",
   "language": "python",
   "name": "python3"
  },
  "language_info": {
   "codemirror_mode": {
    "name": "ipython",
    "version": 3
   },
   "file_extension": ".py",
   "mimetype": "text/x-python",
   "name": "python",
   "nbconvert_exporter": "python",
   "pygments_lexer": "ipython3",
   "version": "3.7.1"
  }
 },
 "nbformat": 4,
 "nbformat_minor": 2
}
