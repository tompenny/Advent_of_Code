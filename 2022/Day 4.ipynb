{
 "cells": [
  {
   "cell_type": "code",
   "execution_count": 18,
   "metadata": {},
   "outputs": [],
   "source": [
    "import numpy as np"
   ]
  },
  {
   "cell_type": "code",
   "execution_count": 90,
   "metadata": {},
   "outputs": [],
   "source": [
    "f = open('Day4input.txt', 'r')\n",
    "data = f.read()"
   ]
  },
  {
   "cell_type": "markdown",
   "metadata": {},
   "source": [
    "# Part 1"
   ]
  },
  {
   "cell_type": "code",
   "execution_count": 96,
   "metadata": {},
   "outputs": [
    {
     "name": "stdout",
     "output_type": "stream",
     "text": [
      "487\n"
     ]
    }
   ],
   "source": [
    "dataformat = [i.split(',') for i in data.split('\\n')]\n",
    "k = 0\n",
    "for i in dataformat:\n",
    "    upperandlower = [j.split('-') for j in i]\n",
    "    if int(upperandlower[0][0])<=int(upperandlower[1][0]) and int(upperandlower[0][1])>=int(upperandlower[1][1]):\n",
    "        k+=1\n",
    "    elif int(upperandlower[0][0])>=int(upperandlower[1][0]) and int(upperandlower[0][1])<=int(upperandlower[1][1]):\n",
    "        k+=1\n",
    "print(k)"
   ]
  },
  {
   "cell_type": "markdown",
   "metadata": {},
   "source": [
    "# Part 2"
   ]
  },
  {
   "cell_type": "code",
   "execution_count": 97,
   "metadata": {},
   "outputs": [
    {
     "name": "stdout",
     "output_type": "stream",
     "text": [
      "849\n"
     ]
    }
   ],
   "source": [
    "dataformat = [i.split(',') for i in data.split('\\n')]\n",
    "k = 0\n",
    "for i in dataformat:\n",
    "    upperandlower = [j.split('-') for j in i]\n",
    "    if int(upperandlower[0][0])>=int(upperandlower[1][0]) and int(upperandlower[0][0])<=int(upperandlower[1][1]):\n",
    "        k+=1\n",
    "    elif int(upperandlower[0][1])>=int(upperandlower[1][0]) and int(upperandlower[0][1])<=int(upperandlower[1][1]):\n",
    "        k+=1\n",
    "    elif int(upperandlower[1][0])>=int(upperandlower[0][0]) and int(upperandlower[1][0])<=int(upperandlower[0][1]):\n",
    "        k+=1\n",
    "    elif int(upperandlower[1][1])>=int(upperandlower[0][0]) and int(upperandlower[1][1])<=int(upperandlower[0][1]):\n",
    "        k+=1\n",
    "print(k)"
   ]
  }
 ],
 "metadata": {
  "kernelspec": {
   "display_name": "Python 3",
   "language": "python",
   "name": "python3"
  },
  "language_info": {
   "codemirror_mode": {
    "name": "ipython",
    "version": 3
   },
   "file_extension": ".py",
   "mimetype": "text/x-python",
   "name": "python",
   "nbconvert_exporter": "python",
   "pygments_lexer": "ipython3",
   "version": "3.7.1"
  }
 },
 "nbformat": 4,
 "nbformat_minor": 2
}
